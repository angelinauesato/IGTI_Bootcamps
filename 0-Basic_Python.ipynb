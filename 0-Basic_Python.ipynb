{
 "cells": [
  {
   "cell_type": "markdown",
   "metadata": {
    "id": "IHQMVaZLWbXL"
   },
   "source": [
    "\n",
    "Bootcamp Python Developer by IGTI and aditional source for this notebook:\n",
    "https://docs.python.org/3/tutorial/index.html\n",
    "\n",
    "# Module 1:\n",
    "### First Steps with Python\n",
    "Using Python as a Calculator\n"
   ]
  },
  {
   "cell_type": "code",
   "execution_count": 1,
   "metadata": {
    "colab": {
     "base_uri": "https://localhost:8080/"
    },
    "id": "8PMrVBEoLPe4",
    "outputId": "523a5bfc-d5a8-4808-c5c4-c2f6fa37cb3a"
   },
   "outputs": [
    {
     "name": "stdout",
     "output_type": "stream",
     "text": [
      "5\n",
      "10\n",
      "16\n",
      "25\n"
     ]
    }
   ],
   "source": [
    "print(5)\n",
    "print(5+5)\n",
    "print(2*8)\n",
    "print(int(50/2))  \n",
    "a = 10"
   ]
  },
  {
   "cell_type": "code",
   "execution_count": 2,
   "metadata": {
    "colab": {
     "base_uri": "https://localhost:8080/"
    },
    "id": "lw2EBh3JnyJM",
    "outputId": "411bbc85-64cc-46cd-a6f7-988370985a57"
   },
   "outputs": [
    {
     "name": "stdout",
     "output_type": "stream",
     "text": [
      "10\n"
     ]
    }
   ],
   "source": [
    "print(a)"
   ]
  },
  {
   "cell_type": "code",
   "execution_count": 3,
   "metadata": {
    "id": "ASqWhKWQnx45"
   },
   "outputs": [],
   "source": [
    "y = 'ok'"
   ]
  },
  {
   "cell_type": "code",
   "execution_count": 4,
   "metadata": {
    "colab": {
     "base_uri": "https://localhost:8080/"
    },
    "id": "SvkuqrrooMVl",
    "outputId": "ab6f965c-4b02-4730-9627-9dd954ff1182"
   },
   "outputs": [
    {
     "name": "stdout",
     "output_type": "stream",
     "text": [
      "ok\n"
     ]
    }
   ],
   "source": [
    "print(y)"
   ]
  },
  {
   "cell_type": "code",
   "execution_count": 5,
   "metadata": {
    "colab": {
     "base_uri": "https://localhost:8080/"
    },
    "id": "ZKEJpIojobcG",
    "outputId": "be0a47aa-34c5-4417-e617-e84294f58d47"
   },
   "outputs": [
    {
     "data": {
      "text/plain": [
       "100000"
      ]
     },
     "execution_count": 5,
     "metadata": {},
     "output_type": "execute_result"
    }
   ],
   "source": [
    "10 ** 5"
   ]
  },
  {
   "cell_type": "code",
   "execution_count": 6,
   "metadata": {
    "colab": {
     "base_uri": "https://localhost:8080/"
    },
    "id": "1BQKlRw0orp3",
    "outputId": "e4c39097-0c62-44d3-ac4a-810b24bfbd9c"
   },
   "outputs": [
    {
     "data": {
      "text/plain": [
       "11"
      ]
     },
     "execution_count": 6,
     "metadata": {},
     "output_type": "execute_result"
    }
   ],
   "source": [
    "9 ^ 2"
   ]
  },
  {
   "cell_type": "markdown",
   "metadata": {
    "id": "ypm-LJsVWeOy"
   },
   "source": [
    "Strings an be delimited by single quotes or double quotes.\n",
    "\n",
    "The equal sign (=) is used to assign a value to a variable."
   ]
  },
  {
   "cell_type": "code",
   "execution_count": 7,
   "metadata": {
    "colab": {
     "base_uri": "https://localhost:8080/"
    },
    "id": "MoOVfWjVU2ro",
    "outputId": "56babc0d-54de-42c1-ea69-d23c8888041d"
   },
   "outputs": [
    {
     "name": "stdout",
     "output_type": "stream",
     "text": [
      "Single quotes\n",
      "Double quotes\n"
     ]
    }
   ],
   "source": [
    "print('Single quotes')\n",
    "print(\"Double quotes\")\n"
   ]
  },
  {
   "cell_type": "markdown",
   "metadata": {
    "id": "yGzwC4crsSE5"
   },
   "source": [
    "# Indentation"
   ]
  },
  {
   "cell_type": "code",
   "execution_count": 8,
   "metadata": {
    "colab": {
     "base_uri": "https://localhost:8080/"
    },
    "id": "2vDkXuLlsUwZ",
    "outputId": "265d985d-2c64-4a24-fd1d-7a0ca3aef075"
   },
   "outputs": [
    {
     "name": "stdout",
     "output_type": "stream",
     "text": [
      "10 is bigger than 5\n"
     ]
    }
   ],
   "source": [
    "if 10 > 5:\n",
    "  print('10 is bigger than 5')"
   ]
  },
  {
   "cell_type": "markdown",
   "metadata": {
    "id": "2gj0EFJqtQMW"
   },
   "source": [
    "# Variables in Python & Keywords\n",
    "\n",
    "## Variables\n",
    "*   Should start with a letter\n",
    "*   next ones could be letters or numbers\n",
    "*   Cannot use any symbol except for '_'\n",
    "*   Cannot have blank space\n",
    "\n",
    "\n",
    "## Keywords\n",
    "\n",
    "\n",
    "```\n",
    "False      await      else       import     pass\n",
    "None       break      except     in         raise\n",
    "True       class      finally    is         return\n",
    "and        continue   for        lambda     try\n",
    "as         def        from       nonlocal   while\n",
    "assert     del        global     not        with\n",
    "async      elif       if         or         yield\n",
    "```\n",
    "\n"
   ]
  },
  {
   "cell_type": "code",
   "execution_count": 9,
   "metadata": {
    "colab": {
     "base_uri": "https://localhost:8080/"
    },
    "id": "RNc2EFnnZNeX",
    "outputId": "fa4a180a-1719-4ef9-d8e0-fd0a6cb2b5a7"
   },
   "outputs": [
    {
     "name": "stdout",
     "output_type": "stream",
     "text": [
      "5\n"
     ]
    }
   ],
   "source": [
    "x = 5\n",
    "print(x)"
   ]
  },
  {
   "cell_type": "code",
   "execution_count": 10,
   "metadata": {
    "colab": {
     "base_uri": "https://localhost:8080/"
    },
    "id": "jwCWP9LGZgkc",
    "outputId": "bd9e6ca9-c09b-4bbc-b64b-365b3c553cde"
   },
   "outputs": [
    {
     "name": "stdout",
     "output_type": "stream",
     "text": [
      "Python\n"
     ]
    }
   ],
   "source": [
    "y = 'Python'\n",
    "print(y)"
   ]
  },
  {
   "cell_type": "code",
   "execution_count": 11,
   "metadata": {
    "id": "EfBjqFt_ac0F"
   },
   "outputs": [],
   "source": [
    "a = 'Low case'\n",
    "A = 'Upper case'"
   ]
  },
  {
   "cell_type": "code",
   "execution_count": 12,
   "metadata": {
    "colab": {
     "base_uri": "https://localhost:8080/"
    },
    "id": "LDPDUm5KavGN",
    "outputId": "9ce1d026-4b68-4659-b8e1-c6b8675695fd"
   },
   "outputs": [
    {
     "name": "stdout",
     "output_type": "stream",
     "text": [
      "Low case\n"
     ]
    }
   ],
   "source": [
    "print(a)"
   ]
  },
  {
   "cell_type": "code",
   "execution_count": 13,
   "metadata": {
    "colab": {
     "base_uri": "https://localhost:8080/"
    },
    "id": "fXK18nwra4or",
    "outputId": "a3fb6542-48cb-4a81-b9b4-a48cc8fff1ff"
   },
   "outputs": [
    {
     "name": "stdout",
     "output_type": "stream",
     "text": [
      "Upper case\n"
     ]
    }
   ],
   "source": [
    "print(A)"
   ]
  },
  {
   "cell_type": "code",
   "execution_count": 14,
   "metadata": {
    "id": "xwnoalB4a95-"
   },
   "outputs": [],
   "source": [
    "Cod_num = 122342342\n",
    "cod_Num = 324546"
   ]
  },
  {
   "cell_type": "code",
   "execution_count": null,
   "metadata": {
    "id": "MvLxVaK9a806"
   },
   "outputs": [],
   "source": []
  },
  {
   "cell_type": "markdown",
   "metadata": {
    "id": "jQ-bQh_dZJJl"
   },
   "source": [
    "# Comments\n",
    "\n",
    "A comment starts with a hash character (#) that is not part of a string literal, and ends at the end of the physical line. A comment signifies the end of the logical line unless the implicit line joining rules are invoked. Comments are ignored by the syntax"
   ]
  },
  {
   "cell_type": "code",
   "execution_count": 15,
   "metadata": {
    "id": "sbp_Z2lQbSz3"
   },
   "outputs": [],
   "source": [
    "# Single line comment.  "
   ]
  },
  {
   "cell_type": "code",
   "execution_count": 16,
   "metadata": {
    "colab": {
     "base_uri": "https://localhost:8080/",
     "height": 37
    },
    "id": "UJfhB73UtTo4",
    "outputId": "6e50e176-cbbe-46e1-df6d-611622814144"
   },
   "outputs": [
    {
     "data": {
      "text/plain": [
       "'\\nMultiline comment.\\n'"
      ]
     },
     "execution_count": 16,
     "metadata": {},
     "output_type": "execute_result"
    }
   ],
   "source": [
    "\"\"\"\n",
    "Multiline comment.\n",
    "\"\"\""
   ]
  },
  {
   "cell_type": "code",
   "execution_count": 17,
   "metadata": {
    "colab": {
     "base_uri": "https://localhost:8080/",
     "height": 37
    },
    "id": "9URXvDKqc9xW",
    "outputId": "1eabfb86-41e1-4087-c0e8-f15801a1879f"
   },
   "outputs": [
    {
     "data": {
      "text/plain": [
       "'\\nMultiline comment.\\n'"
      ]
     },
     "execution_count": 17,
     "metadata": {},
     "output_type": "execute_result"
    }
   ],
   "source": [
    "'''\n",
    "Multiline comment.\n",
    "'''"
   ]
  },
  {
   "cell_type": "markdown",
   "metadata": {
    "id": "UATWK4yVd4ID"
   },
   "source": [
    "# Best Practices\n",
    "[The Zen of Python](https://www.python.org/dev/peps/pep-0020/)\n",
    "\n",
    "\n",
    "\n",
    "```\n",
    "Beautiful is better than ugly.\n",
    "Explicit is better than implicit.\n",
    "Simple is better than complex.\n",
    "Complex is better than complicated.\n",
    "Flat is better than nested.\n",
    "Sparse is better than dense.\n",
    "Readability counts.\n",
    "Special cases aren't special enough to break the rules.\n",
    "Although practicality beats purity.\n",
    "Errors should never pass silently.\n",
    "Unless explicitly silenced.\n",
    "In the face of ambiguity, refuse the temptation to guess.\n",
    "There should be one-- and preferably only one --obvious way to do it.\n",
    "Although that way may not be obvious at first unless you're Dutch.\n",
    "Now is better than never.\n",
    "Although never is often better than *right* now.\n",
    "If the implementation is hard to explain, it's a bad idea.\n",
    "If the implementation is easy to explain, it may be a good idea.\n",
    "Namespaces are one honking great idea -- let's do more of those!\n",
    "```\n",
    "\n",
    "\n"
   ]
  },
  {
   "cell_type": "code",
   "execution_count": 18,
   "metadata": {
    "id": "PkJMluEKeG0J"
   },
   "outputs": [],
   "source": [
    "CODIDCUSTOMERMG = 13123324"
   ]
  },
  {
   "cell_type": "code",
   "execution_count": 19,
   "metadata": {
    "id": "YgKFd59ZeMeU"
   },
   "outputs": [],
   "source": [
    "COD_ID_CUSTOMER_MG = 13123324"
   ]
  },
  {
   "cell_type": "markdown",
   "metadata": {
    "id": "Tg_Vr1-sgMv-"
   },
   "source": [
    "#Data Type\n",
    "\n",
    "Python has the following data types built-in by default, in these categories:\n",
    "\n",
    "* Text Type:\tstr (Strings in python are surrounded by either single quotation marks ('...'), or double quotation marks (\"...\").)\n",
    "* Numeric Types:\tint, float (Uses '.' to separate the decimal part), complex\n",
    "* Sequence Types:\tlist, tuple, range\n",
    "* Mapping Type:\tdict\n",
    "* Set Types:\tset, frozenset\n",
    "* Boolean Type:\tbool (Returns *True* or *False*)\n",
    "* Binary Types:\tbytes, bytearray, memoryview\n",
    "\n",
    "There is a function: *type()* that returns the data type of one item:\n",
    "\n"
   ]
  },
  {
   "cell_type": "code",
   "execution_count": 20,
   "metadata": {
    "colab": {
     "base_uri": "https://localhost:8080/"
    },
    "id": "4e27eM1qhvAN",
    "outputId": "538ba31f-c605-4b85-9b94-ee8d685bf466"
   },
   "outputs": [
    {
     "name": "stdout",
     "output_type": "stream",
     "text": [
      "<class 'str'>\n"
     ]
    }
   ],
   "source": [
    "a = 'Hello World'\n",
    "print(type(a))"
   ]
  },
  {
   "cell_type": "code",
   "execution_count": 21,
   "metadata": {
    "colab": {
     "base_uri": "https://localhost:8080/"
    },
    "id": "Z1QzVtYkh2QR",
    "outputId": "1331ac3c-8dd8-4379-951e-5f3d2e6dca08"
   },
   "outputs": [
    {
     "name": "stdout",
     "output_type": "stream",
     "text": [
      "<class 'int'>\n"
     ]
    }
   ],
   "source": [
    "Customer_Id = 1234234\n",
    "print(type(Customer_Id))"
   ]
  },
  {
   "cell_type": "code",
   "execution_count": 22,
   "metadata": {
    "colab": {
     "base_uri": "https://localhost:8080/"
    },
    "id": "VMruhjhbiBTV",
    "outputId": "c2a7a048-4e45-45a1-bd91-6b16205822d6"
   },
   "outputs": [
    {
     "name": "stdout",
     "output_type": "stream",
     "text": [
      "<class 'float'>\n"
     ]
    }
   ],
   "source": [
    "Savings_Balance = 1234.56\n",
    "print(type(Savings_Balance))"
   ]
  },
  {
   "cell_type": "code",
   "execution_count": 23,
   "metadata": {
    "colab": {
     "base_uri": "https://localhost:8080/"
    },
    "id": "kn1LjjIbiMg2",
    "outputId": "0d13ba82-bd0f-410f-d554-184b22b95c23"
   },
   "outputs": [
    {
     "name": "stdout",
     "output_type": "stream",
     "text": [
      "<class 'bool'>\n"
     ]
    }
   ],
   "source": [
    "print(type(10>2))"
   ]
  },
  {
   "cell_type": "markdown",
   "metadata": {
    "id": "5EUiNwTEi4uL"
   },
   "source": [
    "## String\n",
    "### Creating"
   ]
  },
  {
   "cell_type": "code",
   "execution_count": 24,
   "metadata": {
    "id": "2EG1jhCQjDhV"
   },
   "outputs": [],
   "source": [
    "\n",
    "number = '4015 '\n",
    "street = 'Centre St N, '\n",
    "city = 'Calgary, '\n",
    "province = 'AB '\n",
    "postal_code = 'T2E 2Y4'"
   ]
  },
  {
   "cell_type": "markdown",
   "metadata": {
    "id": "0ScCEbGRj7Fx"
   },
   "source": [
    "### String Concatenate\n",
    "Strings can be concatenated (glued together) with the + operator, and repeated with *:"
   ]
  },
  {
   "cell_type": "code",
   "execution_count": 25,
   "metadata": {
    "colab": {
     "base_uri": "https://localhost:8080/"
    },
    "id": "gyI8JrT8jtY4",
    "outputId": "e5e72697-90a5-4dae-d420-1d7971a84389"
   },
   "outputs": [
    {
     "name": "stdout",
     "output_type": "stream",
     "text": [
      "4015 Centre St N, Calgary, AB T2E 2Y4\n"
     ]
    }
   ],
   "source": [
    "address = number + street + city + province + postal_code\n",
    "print(address)"
   ]
  },
  {
   "cell_type": "markdown",
   "metadata": {
    "id": "Iib7IjTPlAES"
   },
   "source": [
    "### Repeated  String"
   ]
  },
  {
   "cell_type": "code",
   "execution_count": 26,
   "metadata": {
    "colab": {
     "base_uri": "https://localhost:8080/"
    },
    "id": "ZWEpJA8Zk-EG",
    "outputId": "7d5a9af8-a4d7-41bb-f629-d41a0c86f9f5"
   },
   "outputs": [
    {
     "name": "stdout",
     "output_type": "stream",
     "text": [
      "Go Go Canada!\n"
     ]
    }
   ],
   "source": [
    "Go = 'Go '\n",
    "Canada = 'Canada!'\n",
    "\n",
    "print( 2 * Go + Canada)"
   ]
  },
  {
   "cell_type": "markdown",
   "metadata": {
    "id": "dPpE88g3lqrk"
   },
   "source": [
    "### Upper case method\n",
    "*upper()*"
   ]
  },
  {
   "cell_type": "code",
   "execution_count": 27,
   "metadata": {
    "colab": {
     "base_uri": "https://localhost:8080/"
    },
    "id": "6n6zdeQul0T_",
    "outputId": "caaf4181-1f0c-466f-95db-47eb41b4ce78"
   },
   "outputs": [
    {
     "name": "stdout",
     "output_type": "stream",
     "text": [
      "4015 CENTRE ST N, CALGARY, AB T2E 2Y4\n"
     ]
    }
   ],
   "source": [
    "print(address.upper())"
   ]
  },
  {
   "cell_type": "markdown",
   "metadata": {
    "id": "-rhPCCOFl6SH"
   },
   "source": [
    "### Lower case method\n",
    "*lower()*"
   ]
  },
  {
   "cell_type": "code",
   "execution_count": 28,
   "metadata": {
    "colab": {
     "base_uri": "https://localhost:8080/"
    },
    "id": "yqbNDKdHmDrJ",
    "outputId": "0cd07ed3-9111-4693-8785-d7b444fe34d2"
   },
   "outputs": [
    {
     "name": "stdout",
     "output_type": "stream",
     "text": [
      "4015 centre st n, calgary, ab t2e 2y4\n"
     ]
    }
   ],
   "source": [
    "print(address.lower())"
   ]
  },
  {
   "cell_type": "markdown",
   "metadata": {
    "id": "ftv2DIJ6mgjs"
   },
   "source": [
    "## Other String Methods\n",
    "\n",
    "\n",
    "There is several methods that can be used when programming with *Strings* in Python see link for more reference. [String Methods](https://https://docs.python.org/3/library/stdtypes.html#string-methods)"
   ]
  },
  {
   "cell_type": "markdown",
   "metadata": {
    "id": "-hC--uUmnoXw"
   },
   "source": [
    "## Integer\n",
    "### Creating\n"
   ]
  },
  {
   "cell_type": "code",
   "execution_count": 29,
   "metadata": {
    "colab": {
     "base_uri": "https://localhost:8080/"
    },
    "id": "YUaNQ0Agn8SK",
    "outputId": "2b98cb75-66ff-4bbb-8ba9-41522fd405f7"
   },
   "outputs": [
    {
     "name": "stdout",
     "output_type": "stream",
     "text": [
      "50\n"
     ]
    }
   ],
   "source": [
    "x = 50\n",
    "print(x)"
   ]
  },
  {
   "cell_type": "code",
   "execution_count": 30,
   "metadata": {
    "colab": {
     "base_uri": "https://localhost:8080/"
    },
    "id": "IiQrfBeloDwW",
    "outputId": "00137b1e-7610-4f10-e1f7-3116eba92565"
   },
   "outputs": [
    {
     "name": "stdout",
     "output_type": "stream",
     "text": [
      "-250\n"
     ]
    }
   ],
   "source": [
    "y = -250\n",
    "print(y)"
   ]
  },
  {
   "cell_type": "code",
   "execution_count": 31,
   "metadata": {
    "colab": {
     "base_uri": "https://localhost:8080/"
    },
    "id": "v95huFRpoHiI",
    "outputId": "f00e3673-a113-49dd-d539-4c43a900866d"
   },
   "outputs": [
    {
     "name": "stdout",
     "output_type": "stream",
     "text": [
      "50\n"
     ]
    }
   ],
   "source": [
    "a = +50\n",
    "print(a)"
   ]
  },
  {
   "cell_type": "code",
   "execution_count": 32,
   "metadata": {
    "colab": {
     "base_uri": "https://localhost:8080/"
    },
    "id": "B4yTtkrNoSSc",
    "outputId": "d370660a-c0e9-4fdb-d45d-a452ecce5a0a"
   },
   "outputs": [
    {
     "name": "stdout",
     "output_type": "stream",
     "text": [
      "50\n"
     ]
    }
   ],
   "source": [
    "student_id = int(50)\n",
    "print(student_id)"
   ]
  },
  {
   "cell_type": "code",
   "execution_count": 33,
   "metadata": {
    "colab": {
     "base_uri": "https://localhost:8080/"
    },
    "id": "dZSmiZIjohpc",
    "outputId": "cb660a4b-2bcf-4231-816e-557be85e405b"
   },
   "outputs": [
    {
     "name": "stdout",
     "output_type": "stream",
     "text": [
      "<class 'int'>\n"
     ]
    }
   ],
   "source": [
    "print(type(a))"
   ]
  },
  {
   "cell_type": "markdown",
   "metadata": {
    "id": "XZABRirvo7sL"
   },
   "source": [
    "### Quotient Integer / Integer = Float"
   ]
  },
  {
   "cell_type": "code",
   "execution_count": 34,
   "metadata": {
    "colab": {
     "base_uri": "https://localhost:8080/"
    },
    "id": "8NMmATBXok8v",
    "outputId": "41c1743d-0fc4-4bab-a04a-06ae69ce87ee"
   },
   "outputs": [
    {
     "name": "stdout",
     "output_type": "stream",
     "text": [
      "25.0\n"
     ]
    }
   ],
   "source": [
    "quotient = 50/2\n",
    "print(quotient)"
   ]
  },
  {
   "cell_type": "code",
   "execution_count": 35,
   "metadata": {
    "colab": {
     "base_uri": "https://localhost:8080/"
    },
    "id": "ZaHL0x7EpQW3",
    "outputId": "19832a57-62e6-4441-f9aa-7438e2f01a2d"
   },
   "outputs": [
    {
     "name": "stdout",
     "output_type": "stream",
     "text": [
      "<class 'float'>\n"
     ]
    }
   ],
   "source": [
    "print(type(quotient))"
   ]
  },
  {
   "cell_type": "code",
   "execution_count": 36,
   "metadata": {
    "colab": {
     "base_uri": "https://localhost:8080/"
    },
    "id": "ewMkS1u5pQ96",
    "outputId": "dc205389-5230-462e-8224-ad28e7803a2f"
   },
   "outputs": [
    {
     "name": "stdout",
     "output_type": "stream",
     "text": [
      "25\n"
     ]
    }
   ],
   "source": [
    "quotient = int(50/2)\n",
    "print(quotient)\n"
   ]
  },
  {
   "cell_type": "code",
   "execution_count": 37,
   "metadata": {
    "colab": {
     "base_uri": "https://localhost:8080/"
    },
    "id": "PPLf_MtApmKC",
    "outputId": "6103bc0a-76ea-4861-be82-e4cbdca9d52e"
   },
   "outputs": [
    {
     "name": "stdout",
     "output_type": "stream",
     "text": [
      "<class 'int'>\n"
     ]
    }
   ],
   "source": [
    "print(type(quotient))"
   ]
  },
  {
   "cell_type": "markdown",
   "metadata": {
    "id": "_q2HgTHHqUn2"
   },
   "source": [
    "## Other Integer Methods\n",
    "There is several methods that can be used when programming with *Integer* in Python see link for more reference.\n",
    "[Integer Methods](https://https://docs.python.org/3/library/functions.html#int)"
   ]
  },
  {
   "cell_type": "markdown",
   "metadata": {
    "id": "QAgHheJ9quqr"
   },
   "source": [
    "## Float\n",
    "### Creating"
   ]
  },
  {
   "cell_type": "code",
   "execution_count": 38,
   "metadata": {
    "colab": {
     "base_uri": "https://localhost:8080/"
    },
    "id": "rJJQDrZOrLHZ",
    "outputId": "ae1e3395-1fcf-4e72-96e7-42735835dc3d"
   },
   "outputs": [
    {
     "name": "stdout",
     "output_type": "stream",
     "text": [
      "<class 'float'>\n"
     ]
    }
   ],
   "source": [
    "a = 2.5\n",
    "print(type(a))"
   ]
  },
  {
   "cell_type": "code",
   "execution_count": 39,
   "metadata": {
    "colab": {
     "base_uri": "https://localhost:8080/"
    },
    "id": "t2Cw6eyUrQgO",
    "outputId": "45d50ce8-e263-497a-f48e-4ab4c8185797"
   },
   "outputs": [
    {
     "name": "stdout",
     "output_type": "stream",
     "text": [
      "<class 'float'>\n"
     ]
    }
   ],
   "source": [
    "b = -2.3\n",
    "print(type(b))"
   ]
  },
  {
   "cell_type": "code",
   "execution_count": 40,
   "metadata": {
    "colab": {
     "base_uri": "https://localhost:8080/"
    },
    "id": "LK3x1SDmrUbx",
    "outputId": "3bee7101-4913-4775-e990-f9fde508c84d"
   },
   "outputs": [
    {
     "name": "stdout",
     "output_type": "stream",
     "text": [
      "<class 'tuple'>\n"
     ]
    }
   ],
   "source": [
    "c = 6,23\n",
    "print(type(c))"
   ]
  },
  {
   "cell_type": "markdown",
   "metadata": {
    "id": "txgT_iMgra07"
   },
   "source": [
    "### Exponential format\n",
    "*e* (lowercase) or *E* (uppercase) "
   ]
  },
  {
   "cell_type": "code",
   "execution_count": 41,
   "metadata": {
    "colab": {
     "base_uri": "https://localhost:8080/"
    },
    "id": "Rym9l6VSsc0Y",
    "outputId": "317755a9-e474-4d33-b4fa-cbb0f10b5e4a"
   },
   "outputs": [
    {
     "name": "stdout",
     "output_type": "stream",
     "text": [
      "<class 'float'>\n"
     ]
    }
   ],
   "source": [
    "d = 35e3\n",
    "print(type(d))"
   ]
  },
  {
   "cell_type": "code",
   "execution_count": 42,
   "metadata": {
    "colab": {
     "base_uri": "https://localhost:8080/"
    },
    "id": "FBBtbUbNspD3",
    "outputId": "5d8b10ff-28d3-487b-b299-ce70d127ca7c"
   },
   "outputs": [
    {
     "name": "stdout",
     "output_type": "stream",
     "text": [
      "<class 'float'>\n"
     ]
    }
   ],
   "source": [
    "d = 35E3\n",
    "print(type(d))"
   ]
  },
  {
   "cell_type": "code",
   "execution_count": 43,
   "metadata": {
    "colab": {
     "base_uri": "https://localhost:8080/"
    },
    "id": "abhjF9dCsryf",
    "outputId": "aac4a688-c2be-4a56-accd-e0f5a15c5424"
   },
   "outputs": [
    {
     "name": "stdout",
     "output_type": "stream",
     "text": [
      "<class 'float'>\n"
     ]
    }
   ],
   "source": [
    "e = -12e2\n",
    "print(type(e))"
   ]
  },
  {
   "cell_type": "markdown",
   "metadata": {
    "id": "nHDLh0la6PTd"
   },
   "source": [
    "## Boolean\n",
    "### Creating\n"
   ]
  },
  {
   "cell_type": "code",
   "execution_count": 44,
   "metadata": {
    "colab": {
     "base_uri": "https://localhost:8080/"
    },
    "id": "DClCO7Id6Z3_",
    "outputId": "1224ceb7-35e0-49d9-f22a-c06505317950"
   },
   "outputs": [
    {
     "data": {
      "text/plain": [
       "True"
      ]
     },
     "execution_count": 44,
     "metadata": {},
     "output_type": "execute_result"
    }
   ],
   "source": [
    "5 == 5"
   ]
  },
  {
   "cell_type": "code",
   "execution_count": 45,
   "metadata": {
    "colab": {
     "base_uri": "https://localhost:8080/"
    },
    "id": "lG4pRLQs6lXM",
    "outputId": "ebd925df-cf8f-48a5-9aeb-faf7187d87fa"
   },
   "outputs": [
    {
     "data": {
      "text/plain": [
       "False"
      ]
     },
     "execution_count": 45,
     "metadata": {},
     "output_type": "execute_result"
    }
   ],
   "source": [
    "5 == 4"
   ]
  },
  {
   "cell_type": "code",
   "execution_count": 46,
   "metadata": {
    "colab": {
     "base_uri": "https://localhost:8080/"
    },
    "id": "ALlMTTJw6nuw",
    "outputId": "c70bdbad-5477-4b93-ab0d-7ebd5b759e41"
   },
   "outputs": [
    {
     "data": {
      "text/plain": [
       "True"
      ]
     },
     "execution_count": 46,
     "metadata": {},
     "output_type": "execute_result"
    }
   ],
   "source": [
    "15 > 3"
   ]
  },
  {
   "cell_type": "code",
   "execution_count": 47,
   "metadata": {
    "colab": {
     "base_uri": "https://localhost:8080/"
    },
    "id": "KPWMzoMS6p7r",
    "outputId": "748448fe-eb0d-4f7c-9a7a-b7f4ab39505d"
   },
   "outputs": [
    {
     "data": {
      "text/plain": [
       "False"
      ]
     },
     "execution_count": 47,
     "metadata": {},
     "output_type": "execute_result"
    }
   ],
   "source": [
    "'python' == 'java'"
   ]
  },
  {
   "cell_type": "code",
   "execution_count": 48,
   "metadata": {
    "colab": {
     "base_uri": "https://localhost:8080/"
    },
    "id": "kj8KlvS96uEB",
    "outputId": "cdc252f1-f82f-408f-d002-b315e97c9f64"
   },
   "outputs": [
    {
     "data": {
      "text/plain": [
       "True"
      ]
     },
     "execution_count": 48,
     "metadata": {},
     "output_type": "execute_result"
    }
   ],
   "source": [
    "'python' > 'java'"
   ]
  },
  {
   "cell_type": "code",
   "execution_count": 49,
   "metadata": {
    "colab": {
     "base_uri": "https://localhost:8080/"
    },
    "id": "Zf614eSk6x6n",
    "outputId": "6d21de00-6592-4a84-e777-caec6562c6fc"
   },
   "outputs": [
    {
     "data": {
      "text/plain": [
       "True"
      ]
     },
     "execution_count": 49,
     "metadata": {},
     "output_type": "execute_result"
    }
   ],
   "source": [
    "'python' == 'python'"
   ]
  },
  {
   "cell_type": "code",
   "execution_count": 50,
   "metadata": {
    "colab": {
     "base_uri": "https://localhost:8080/"
    },
    "id": "PCs0YfcI620u",
    "outputId": "085641b2-2744-4dcb-80d3-3db0b9b1f044"
   },
   "outputs": [
    {
     "data": {
      "text/plain": [
       "False"
      ]
     },
     "execution_count": 50,
     "metadata": {},
     "output_type": "execute_result"
    }
   ],
   "source": [
    "'banana' == 'soccer'"
   ]
  },
  {
   "cell_type": "markdown",
   "metadata": {
    "id": "IJoANuAG7I0d"
   },
   "source": [
    "### Comparision\n",
    "\n",
    "This table summarizes the comparison operations:\n",
    "```\n",
    " <  - strictly less than\n",
    " <= - less than or equal\n",
    "  > - strictly greater than\n",
    " >= - greater than or equal\n",
    " == - equal\n",
    " != - not equal\n",
    " is - object identity\n",
    " is not - negated object identity\n",
    "```"
   ]
  },
  {
   "cell_type": "markdown",
   "metadata": {
    "id": "8KwRAGbg97Kj"
   },
   "source": [
    "# Collections\n",
    "\n",
    "* *Lists* - Lists are mutable sequences, typically used to store collections of homogeneous items.\n",
    "\n",
    "```\n",
    "Lists may be constructed in several ways:\n",
    "\n",
    "* Using a pair of square brackets to denote the empty list: []\n",
    "\n",
    "* Using square brackets, separating items with commas: [a], [a, b, c]\n",
    "\n",
    "* Using a list comprehension: [x for x in iterable]\n",
    "\n",
    "* Using the type constructor: list() or list(iterable)\n",
    "\n",
    "```\n",
    "\n",
    "* Tuples\n",
    "* Dictionary - \n",
    "* Sets \n",
    "\n"
   ]
  },
  {
   "cell_type": "markdown",
   "metadata": {
    "id": "f48tLjeyCABI"
   },
   "source": [
    "### Lists (Array)"
   ]
  },
  {
   "cell_type": "code",
   "execution_count": 51,
   "metadata": {
    "id": "FghD2_R4CEm7"
   },
   "outputs": [],
   "source": [
    "fruits = ['banana', 'orange', 'avocato','watermelon', 'pineapple', 'papaya']\n",
    "students_balance = [500.00, 1200.00, 1000.00, 600.00, 3200.00]\n",
    "paciente_quantity = [25, 36, 50, 45, 22, 33, 89]\n"
   ]
  },
  {
   "cell_type": "code",
   "execution_count": 52,
   "metadata": {
    "colab": {
     "base_uri": "https://localhost:8080/"
    },
    "id": "REzopHRpCvHI",
    "outputId": "a8591ec6-6761-4e7f-c0bb-e104bcc2f091"
   },
   "outputs": [
    {
     "name": "stdout",
     "output_type": "stream",
     "text": [
      "['banana', 'orange', 'avocato', 'watermelon', 'pineapple', 'papaya']\n"
     ]
    }
   ],
   "source": [
    "print(fruits)"
   ]
  },
  {
   "cell_type": "code",
   "execution_count": 53,
   "metadata": {
    "colab": {
     "base_uri": "https://localhost:8080/"
    },
    "id": "Dh_OmcuaCxvf",
    "outputId": "c9e7d0cd-ef2b-4fde-f740-ea0b33c4e870"
   },
   "outputs": [
    {
     "name": "stdout",
     "output_type": "stream",
     "text": [
      "[500.0, 1200.0, 1000.0, 600.0, 3200.0]\n"
     ]
    }
   ],
   "source": [
    "print(students_balance)"
   ]
  },
  {
   "cell_type": "code",
   "execution_count": 54,
   "metadata": {
    "colab": {
     "base_uri": "https://localhost:8080/"
    },
    "id": "7pzWy8XPC0v2",
    "outputId": "b71f53c2-5883-4349-c34c-90e50b4f06dc"
   },
   "outputs": [
    {
     "name": "stdout",
     "output_type": "stream",
     "text": [
      "[25, 36, 50, 45, 22, 33, 89]\n"
     ]
    }
   ],
   "source": [
    "print(paciente_quantity)"
   ]
  },
  {
   "cell_type": "markdown",
   "metadata": {
    "id": "H9PLM4pFC8ci"
   },
   "source": [
    "Allows duplicate values:"
   ]
  },
  {
   "cell_type": "code",
   "execution_count": 55,
   "metadata": {
    "colab": {
     "base_uri": "https://localhost:8080/"
    },
    "id": "WCfyPkauDFEq",
    "outputId": "1def7b1d-7250-429f-faa8-a2e25789732e"
   },
   "outputs": [
    {
     "name": "stdout",
     "output_type": "stream",
     "text": [
      "['banana', 'orange', 'avocato', 'watermelon', 'pineapple', 'papaya', 'banana', 'orange', 'avocato', 'watermelon']\n"
     ]
    }
   ],
   "source": [
    "fruits_dp = ['banana', 'orange', 'avocato','watermelon', 'pineapple', 'papaya', 'banana', 'orange', 'avocato','watermelon']\n",
    "print(fruits_dp)"
   ]
  },
  {
   "cell_type": "markdown",
   "metadata": {
    "id": "ApUt4u6nDfC7"
   },
   "source": [
    "Size: *len()* method."
   ]
  },
  {
   "cell_type": "code",
   "execution_count": 56,
   "metadata": {
    "colab": {
     "base_uri": "https://localhost:8080/"
    },
    "id": "oWPl2cMXDg5m",
    "outputId": "6d4734f0-b4b5-4eca-cc37-99d2ce14c2b4"
   },
   "outputs": [
    {
     "name": "stdout",
     "output_type": "stream",
     "text": [
      "5\n"
     ]
    }
   ],
   "source": [
    "print(len(students_balance))"
   ]
  },
  {
   "cell_type": "code",
   "execution_count": 57,
   "metadata": {
    "colab": {
     "base_uri": "https://localhost:8080/"
    },
    "id": "7uLIgoPzDoDl",
    "outputId": "30b2e79a-0627-4979-e7d7-105745aa26dc"
   },
   "outputs": [
    {
     "name": "stdout",
     "output_type": "stream",
     "text": [
      "7\n"
     ]
    }
   ],
   "source": [
    "print(len(paciente_quantity))"
   ]
  },
  {
   "cell_type": "markdown",
   "metadata": {
    "id": "hDgEENxFD3QA"
   },
   "source": [
    "### List with different data type items"
   ]
  },
  {
   "cell_type": "code",
   "execution_count": 58,
   "metadata": {
    "colab": {
     "base_uri": "https://localhost:8080/"
    },
    "id": "FhdSDB9CD9f2",
    "outputId": "281d3569-4b22-4acd-e59b-a5e0877a5b51"
   },
   "outputs": [
    {
     "name": "stdout",
     "output_type": "stream",
     "text": [
      "[10, 2.5, 'Python']\n"
     ]
    }
   ],
   "source": [
    "variety = [10, 2.5, 'Python']\n",
    "print(variety)"
   ]
  },
  {
   "cell_type": "markdown",
   "metadata": {
    "id": "7OAOQuTHERVp"
   },
   "source": [
    "### Acessing value in a list"
   ]
  },
  {
   "cell_type": "code",
   "execution_count": 59,
   "metadata": {
    "colab": {
     "base_uri": "https://localhost:8080/"
    },
    "id": "3-EgvreDEVlU",
    "outputId": "9d3dcfa4-0187-4c07-fb3e-1acad9f736db"
   },
   "outputs": [
    {
     "name": "stdout",
     "output_type": "stream",
     "text": [
      "avocato\n"
     ]
    }
   ],
   "source": [
    "print(fruits[2])"
   ]
  },
  {
   "cell_type": "code",
   "execution_count": 60,
   "metadata": {
    "colab": {
     "base_uri": "https://localhost:8080/"
    },
    "id": "-cbiuGsSEcdK",
    "outputId": "c6de2874-9876-4a01-ff56-0d185adbed65"
   },
   "outputs": [
    {
     "name": "stdout",
     "output_type": "stream",
     "text": [
      "watermelon\n"
     ]
    }
   ],
   "source": [
    "print(fruits[3])"
   ]
  },
  {
   "cell_type": "markdown",
   "metadata": {
    "id": "JIXP4zdcEff7"
   },
   "source": [
    "### Adding item in a list \n",
    "*append()* method"
   ]
  },
  {
   "cell_type": "code",
   "execution_count": 61,
   "metadata": {
    "colab": {
     "base_uri": "https://localhost:8080/"
    },
    "id": "o9q0CxFZEkPE",
    "outputId": "6ef4e4e7-1115-44e8-9dc9-292171d14a2b"
   },
   "outputs": [
    {
     "name": "stdout",
     "output_type": "stream",
     "text": [
      "['banana', 'orange', 'avocato', 'watermelon', 'pineapple', 'papaya', 'strawberry']\n"
     ]
    }
   ],
   "source": [
    "fruits.append('strawberry')\n",
    "print(fruits)"
   ]
  },
  {
   "cell_type": "markdown",
   "metadata": {
    "id": "FuGi08KIFHWQ"
   },
   "source": [
    "### Merge Lists\n",
    " *extend()* method"
   ]
  },
  {
   "cell_type": "code",
   "execution_count": 62,
   "metadata": {
    "colab": {
     "base_uri": "https://localhost:8080/"
    },
    "id": "4lxY69DiFPvv",
    "outputId": "21a6983b-0f49-432f-9966-056cf4582e1b"
   },
   "outputs": [
    {
     "name": "stdout",
     "output_type": "stream",
     "text": [
      "[500.0, 1200.0, 1000.0, 600.0, 3200.0, 25, 36, 50, 45, 22, 33, 89]\n"
     ]
    }
   ],
   "source": [
    "students_balance.extend(paciente_quantity)\n",
    "print(students_balance)"
   ]
  },
  {
   "cell_type": "markdown",
   "metadata": {
    "id": "2fQ3R9IWFnKq"
   },
   "source": [
    "## Tuples"
   ]
  },
  {
   "cell_type": "code",
   "execution_count": 63,
   "metadata": {
    "id": "fIPaMK4lFqOY"
   },
   "outputs": [],
   "source": [
    "fruits = ('banana', 'orange', 'avocato','watermelon', 'pineapple', 'papaya')\n",
    "students_balance = (500.00, 1200.00, 1000.00, 600.00, 3200.00)\n",
    "paciente_quantity = (25, 36, 50, 45, 22, 33, 89)"
   ]
  },
  {
   "cell_type": "code",
   "execution_count": 64,
   "metadata": {
    "colab": {
     "base_uri": "https://localhost:8080/"
    },
    "id": "jX6r5OmBF3jA",
    "outputId": "50368381-8691-4b37-e41f-fb29542c8a1a"
   },
   "outputs": [
    {
     "name": "stdout",
     "output_type": "stream",
     "text": [
      "orange\n"
     ]
    }
   ],
   "source": [
    "print(fruits[1])"
   ]
  },
  {
   "cell_type": "code",
   "execution_count": 65,
   "metadata": {
    "colab": {
     "base_uri": "https://localhost:8080/"
    },
    "id": "h2z20CTiF738",
    "outputId": "febc19f1-a325-4153-9876-50a02ddbe786"
   },
   "outputs": [
    {
     "name": "stdout",
     "output_type": "stream",
     "text": [
      "('orange', 'avocato', 'watermelon')\n"
     ]
    }
   ],
   "source": [
    "print(fruits[1:4])"
   ]
  },
  {
   "cell_type": "code",
   "execution_count": 66,
   "metadata": {
    "colab": {
     "base_uri": "https://localhost:8080/"
    },
    "id": "4jr6rVnIGESt",
    "outputId": "60f8a265-a2a2-4fdc-ea85-6ba732d0782c"
   },
   "outputs": [
    {
     "name": "stdout",
     "output_type": "stream",
     "text": [
      "('orange', 'avocato', 'watermelon', 'pineapple', 'papaya')\n"
     ]
    }
   ],
   "source": [
    "print(fruits[1:len(fruits)])"
   ]
  },
  {
   "cell_type": "code",
   "execution_count": 67,
   "metadata": {
    "colab": {
     "base_uri": "https://localhost:8080/"
    },
    "id": "sG69HYv0GeTC",
    "outputId": "9baf5a41-0b2b-43a4-fb9e-55cfe860db70"
   },
   "outputs": [
    {
     "name": "stdout",
     "output_type": "stream",
     "text": [
      "('banana', 'orange', 'avocato', 'watermelon', 'pineapple', 'papaya', 'banana', 'orange', 'avocato', 'watermelon')\n"
     ]
    }
   ],
   "source": [
    "fruits_dp = ('banana', 'orange', 'avocato','watermelon', 'pineapple', 'papaya', 'banana', 'orange', 'avocato','watermelon')\n",
    "print(fruits_dp)"
   ]
  },
  {
   "cell_type": "markdown",
   "metadata": {
    "id": "84P7ttlnGj-F"
   },
   "source": [
    "### Merging tuples\n"
   ]
  },
  {
   "cell_type": "code",
   "execution_count": 68,
   "metadata": {
    "colab": {
     "base_uri": "https://localhost:8080/"
    },
    "id": "TfaxppSsGsYP",
    "outputId": "04f93dfd-ee61-4c1e-f244-93cfaad9abdc"
   },
   "outputs": [
    {
     "name": "stdout",
     "output_type": "stream",
     "text": [
      "('banana', 'orange', 'avocato', 'watermelon', 'pineapple', 'papaya', 25, 36, 50, 45, 22, 33, 89)\n"
     ]
    }
   ],
   "source": [
    "print(fruits + paciente_quantity)"
   ]
  },
  {
   "cell_type": "code",
   "execution_count": 69,
   "metadata": {
    "colab": {
     "base_uri": "https://localhost:8080/"
    },
    "id": "LJPKY7k1GyjE",
    "outputId": "3dce1994-f14c-4573-88a8-1b71a90127ee"
   },
   "outputs": [
    {
     "name": "stdout",
     "output_type": "stream",
     "text": [
      "<class 'tuple'>\n"
     ]
    }
   ],
   "source": [
    "print(type(fruits + paciente_quantity))"
   ]
  },
  {
   "cell_type": "code",
   "execution_count": 70,
   "metadata": {
    "id": "3F3Oje3nHPa2"
   },
   "outputs": [],
   "source": [
    "paciente_quantity = (25, 36, 50, 45, 22, 33, 89,25, 36, 50, 45, 22, 33, 89,25, 36, 50, 45, 22, 33, 89,\n",
    "                     25, 36, 50, 45, 22, 33, 89,25, 36, 50, 45, 22, 33, 89,25, 36, 50, 45, 22, 33, 89,25, 36, 50, 45, 22, 33, 89,\n",
    "                     25, 36, 50, 45, 22, 33, 89,25, 36, 50, 45, 22, 33, 89,25, 36, 50, 45, 22, 33, 89)\n"
   ]
  },
  {
   "cell_type": "code",
   "execution_count": 71,
   "metadata": {
    "colab": {
     "base_uri": "https://localhost:8080/"
    },
    "id": "Ne0GuUP2Ha6n",
    "outputId": "68e848c7-6d28-4b1a-cece-34562df8e6a5"
   },
   "outputs": [
    {
     "data": {
      "text/plain": [
       "10"
      ]
     },
     "execution_count": 71,
     "metadata": {},
     "output_type": "execute_result"
    }
   ],
   "source": [
    "paciente_quantity.count(45)"
   ]
  },
  {
   "cell_type": "markdown",
   "metadata": {
    "id": "qFW-FYwKH5-P"
   },
   "source": [
    "## Set\n"
   ]
  },
  {
   "cell_type": "code",
   "execution_count": 72,
   "metadata": {
    "colab": {
     "base_uri": "https://localhost:8080/"
    },
    "id": "PkEZO553H8V7",
    "outputId": "52f4dbc3-e8f3-4094-9c95-a8010127208a"
   },
   "outputs": [
    {
     "name": "stdout",
     "output_type": "stream",
     "text": [
      "{'Calgary', 'Langdon', 'Canmore', 'Airdrie', 'Banff'}\n"
     ]
    }
   ],
   "source": [
    "cities = {'Calgary', 'Canmore', 'Banff', 'Airdrie', 'Langdon'}\n",
    "print(cities)"
   ]
  },
  {
   "cell_type": "markdown",
   "metadata": {
    "id": "orQ1lL_9IfER"
   },
   "source": [
    "### Do not accept duplicate values"
   ]
  },
  {
   "cell_type": "code",
   "execution_count": 73,
   "metadata": {
    "colab": {
     "base_uri": "https://localhost:8080/"
    },
    "id": "Np0qLpClINON",
    "outputId": "1634a77d-7f5d-4b0a-8bd7-5f57584c4244"
   },
   "outputs": [
    {
     "name": "stdout",
     "output_type": "stream",
     "text": [
      "{'Calgary', 'Langdon', 'Canmore', 'Airdrie', 'Banff'}\n"
     ]
    }
   ],
   "source": [
    "cities_dp = {'Calgary', 'Canmore', 'Banff', 'Airdrie', 'Langdon','Calgary', 'Canmore', 'Banff', 'Airdrie', 'Langdon',\n",
    "          'Calgary', 'Canmore', 'Banff', 'Airdrie', 'Langdon',\n",
    "          'Calgary', 'Canmore', 'Banff', 'Airdrie', 'Langdon',\n",
    "          'Calgary', 'Canmore', 'Banff', 'Airdrie', 'Langdon'}\n",
    "print(cities_dp)"
   ]
  },
  {
   "cell_type": "markdown",
   "metadata": {
    "id": "t2nSTrf-Ik2_"
   },
   "source": [
    "### Find a value"
   ]
  },
  {
   "cell_type": "code",
   "execution_count": 74,
   "metadata": {
    "colab": {
     "base_uri": "https://localhost:8080/"
    },
    "id": "ExtmmsDQIoRe",
    "outputId": "ae7f6cda-f23b-4002-80de-541480615a8c"
   },
   "outputs": [
    {
     "name": "stdout",
     "output_type": "stream",
     "text": [
      "True\n"
     ]
    }
   ],
   "source": [
    "print('Banff' in cities)"
   ]
  },
  {
   "cell_type": "code",
   "execution_count": 75,
   "metadata": {
    "colab": {
     "base_uri": "https://localhost:8080/"
    },
    "id": "0d7ivRX2Iv6g",
    "outputId": "be8bb49b-37bb-4cdb-c982-2ea7bce4ae8c"
   },
   "outputs": [
    {
     "name": "stdout",
     "output_type": "stream",
     "text": [
      "False\n"
     ]
    }
   ],
   "source": [
    "print('Toronto' in cities)"
   ]
  },
  {
   "cell_type": "code",
   "execution_count": 76,
   "metadata": {
    "colab": {
     "base_uri": "https://localhost:8080/"
    },
    "id": "7K2ZwZs9I20g",
    "outputId": "3569fca2-5f7c-48c2-91f7-6edad1ab4fe1"
   },
   "outputs": [
    {
     "name": "stdout",
     "output_type": "stream",
     "text": [
      "<class 'set'>\n"
     ]
    }
   ],
   "source": [
    "print(type(cities))"
   ]
  },
  {
   "cell_type": "markdown",
   "metadata": {
    "id": "3YVATkXjI_Do"
   },
   "source": [
    "### Adding value"
   ]
  },
  {
   "cell_type": "code",
   "execution_count": 77,
   "metadata": {
    "colab": {
     "base_uri": "https://localhost:8080/"
    },
    "id": "yWJ_SelEI-Gw",
    "outputId": "cd89cbe2-2b39-4b7c-9a09-37c1b7d3dc4c"
   },
   "outputs": [
    {
     "name": "stdout",
     "output_type": "stream",
     "text": [
      "{'Calgary', 'Red Deer', 'Langdon', 'Canmore', 'Airdrie', 'Banff'}\n"
     ]
    }
   ],
   "source": [
    "cities.add('Red Deer')\n",
    "print(cities)"
   ]
  },
  {
   "cell_type": "markdown",
   "metadata": {
    "id": "9Nv6zyVLJKPN"
   },
   "source": [
    "#Merging Sets\n"
   ]
  },
  {
   "cell_type": "code",
   "execution_count": 78,
   "metadata": {
    "colab": {
     "base_uri": "https://localhost:8080/"
    },
    "id": "DCL1bzT9JOAh",
    "outputId": "b55f8a61-a017-4b6f-8fc2-bae3f5cfa75f"
   },
   "outputs": [
    {
     "name": "stdout",
     "output_type": "stream",
     "text": [
      "{'Calgary', 'Nelson', 'Red Deer', 'Langdon', 'Canmore', 'Airdrie', 'Vancouver', 'Banff', 'Golden'}\n"
     ]
    }
   ],
   "source": [
    "cities_bc = {'Nelson', 'Vancouver', 'Golden'}\n",
    "cities.update(cities_bc)\n",
    "print(cities)"
   ]
  },
  {
   "cell_type": "markdown",
   "metadata": {
    "id": "-2sEx-5OJt1F"
   },
   "source": [
    "## Dictionary\n",
    "Usually with key => value"
   ]
  },
  {
   "cell_type": "code",
   "execution_count": 79,
   "metadata": {
    "colab": {
     "base_uri": "https://localhost:8080/"
    },
    "id": "pqFLNEsyJ9O1",
    "outputId": "adc3a474-d22b-4e3c-c471-0e17f28ffb92"
   },
   "outputs": [
    {
     "name": "stdout",
     "output_type": "stream",
     "text": [
      "<class 'dict'>\n"
     ]
    }
   ],
   "source": [
    "provinces = {\n",
    "    'AB' : 'Alberta',\n",
    "    'BC' : 'British Columbia',\n",
    "    'ON' : 'Ontario',\n",
    "    'MB' : 'Manitoba'\n",
    "}\n",
    "print(type(provinces))"
   ]
  },
  {
   "cell_type": "code",
   "execution_count": 80,
   "metadata": {
    "colab": {
     "base_uri": "https://localhost:8080/"
    },
    "id": "GwEnEU6CKqXk",
    "outputId": "47e71648-a7da-46f4-a8a0-21a6ffde07bf"
   },
   "outputs": [
    {
     "name": "stdout",
     "output_type": "stream",
     "text": [
      "{'AB': 'Alberta', 'BC': 'British Columbia', 'ON': 'Ontario', 'MB': 'Manitoba'}\n"
     ]
    }
   ],
   "source": [
    "print(provinces)"
   ]
  },
  {
   "cell_type": "code",
   "execution_count": 81,
   "metadata": {
    "colab": {
     "base_uri": "https://localhost:8080/"
    },
    "id": "4q5XoHQIKuNz",
    "outputId": "1d3eaa68-1acb-4cac-a66e-ce1821fd188d"
   },
   "outputs": [
    {
     "name": "stdout",
     "output_type": "stream",
     "text": [
      "dict_values(['Alberta', 'British Columbia', 'Ontario', 'Manitoba'])\n"
     ]
    }
   ],
   "source": [
    "print(provinces.values())"
   ]
  },
  {
   "cell_type": "markdown",
   "metadata": {
    "id": "mlag5in9LUly"
   },
   "source": [
    "### Do not accept duplicate values"
   ]
  },
  {
   "cell_type": "code",
   "execution_count": 82,
   "metadata": {
    "colab": {
     "base_uri": "https://localhost:8080/"
    },
    "id": "2tix4nISK3mX",
    "outputId": "271b4bd5-a44d-4f1c-9ea5-10da8e36340a"
   },
   "outputs": [
    {
     "name": "stdout",
     "output_type": "stream",
     "text": [
      "{'AB': 'Alberta', 'BC': 'British Columbia', 'ON': 'Ontario', 'MB': 'Manitoba'}\n"
     ]
    }
   ],
   "source": [
    "provinces_dp = {\n",
    "    'AB' : 'Alberta',\n",
    "    'BC' : 'British Columbia',\n",
    "    'ON' : 'Ontario',\n",
    "    'MB' : 'Manitoba',\n",
    "    'AB' : 'Alberta',\n",
    "    'BC' : 'British Columbia',\n",
    "    'ON' : 'Ontario',\n",
    "    'MB' : 'Manitoba','AB' : 'Alberta',\n",
    "    'BC' : 'British Columbia',\n",
    "    'ON' : 'Ontario',\n",
    "    'MB' : 'Manitoba'\n",
    "}\n",
    "print(provinces_dp)"
   ]
  },
  {
   "cell_type": "markdown",
   "metadata": {
    "id": "Oy2zjWiVLajN"
   },
   "source": [
    "### Accessing values"
   ]
  },
  {
   "cell_type": "code",
   "execution_count": 83,
   "metadata": {
    "colab": {
     "base_uri": "https://localhost:8080/"
    },
    "id": "rJA6QSuvLdt9",
    "outputId": "744758bc-fb53-40bc-e590-72efdb6b57fb"
   },
   "outputs": [
    {
     "name": "stdout",
     "output_type": "stream",
     "text": [
      "Manitoba\n"
     ]
    }
   ],
   "source": [
    "print(provinces.get('MB'))"
   ]
  },
  {
   "cell_type": "code",
   "execution_count": 84,
   "metadata": {
    "colab": {
     "base_uri": "https://localhost:8080/"
    },
    "id": "4W0yDT9_Ll_G",
    "outputId": "c3d8a7b2-fdfd-415a-8024-a8aecf725855"
   },
   "outputs": [
    {
     "name": "stdout",
     "output_type": "stream",
     "text": [
      "dict_keys(['AB', 'BC', 'ON', 'MB'])\n"
     ]
    }
   ],
   "source": [
    "print(provinces.keys())"
   ]
  },
  {
   "cell_type": "markdown",
   "metadata": {
    "id": "d3y3rRH8Lxm_"
   },
   "source": [
    "### Adding values"
   ]
  },
  {
   "cell_type": "code",
   "execution_count": 85,
   "metadata": {
    "colab": {
     "base_uri": "https://localhost:8080/"
    },
    "id": "9W-502yHL0MY",
    "outputId": "9afdfb66-d9bb-471b-9cf2-fd5ae89d58cc"
   },
   "outputs": [
    {
     "name": "stdout",
     "output_type": "stream",
     "text": [
      "{'AB': 'Alberta', 'BC': 'British Columbia', 'ON': 'Ontario', 'MB': 'Manitoba', 'NB': 'New Brunswick'}\n"
     ]
    }
   ],
   "source": [
    "provinces['NB'] = 'New Brunswick'\n",
    "print(provinces)"
   ]
  },
  {
   "cell_type": "code",
   "execution_count": 86,
   "metadata": {
    "colab": {
     "base_uri": "https://localhost:8080/"
    },
    "id": "EbFOijZ8MD1z",
    "outputId": "8ba5e22e-2243-4e25-b6f5-9da22d7843ab"
   },
   "outputs": [
    {
     "name": "stdout",
     "output_type": "stream",
     "text": [
      "Alberta\n"
     ]
    }
   ],
   "source": [
    "print(provinces['AB'])"
   ]
  }
 ],
 "metadata": {
  "colab": {
   "name": "Bootcamp_Python_Developer Chapter 1 - 4.ipynb",
   "provenance": [],
   "toc_visible": true
  },
  "kernelspec": {
   "display_name": "Python 3 (ipykernel)",
   "language": "python",
   "name": "python3"
  },
  "language_info": {
   "codemirror_mode": {
    "name": "ipython",
    "version": 3
   },
   "file_extension": ".py",
   "mimetype": "text/x-python",
   "name": "python",
   "nbconvert_exporter": "python",
   "pygments_lexer": "ipython3",
   "version": "3.8.10"
  }
 },
 "nbformat": 4,
 "nbformat_minor": 4
}
