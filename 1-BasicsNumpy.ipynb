{
 "cells": [
  {
   "cell_type": "markdown",
   "metadata": {},
   "source": [
    "# Basics about Numpy library for the Python"
   ]
  },
  {
   "cell_type": "raw",
   "metadata": {},
   "source": [
    "I used this notebook to study the basics about the Numpy."
   ]
  },
  {
   "cell_type": "code",
   "execution_count": 37,
   "metadata": {
    "id": "8cjpWgO__gWi"
   },
   "outputs": [],
   "source": [
    "#imports libraries needed\n",
    "import numpy as np"
   ]
  },
  {
   "cell_type": "markdown",
   "metadata": {
    "jp-MarkdownHeadingCollapsed": true,
    "tags": []
   },
   "source": [
    "# Accessing Help"
   ]
  },
  {
   "cell_type": "code",
   "execution_count": 38,
   "metadata": {},
   "outputs": [
    {
     "name": "stdout",
     "output_type": "stream",
     "text": [
      "Help on built-in function array in module numpy:\n",
      "\n",
      "array(...)\n",
      "    array(object, dtype=None, *, copy=True, order='K', subok=False, ndmin=0,\n",
      "          like=None)\n",
      "    \n",
      "    Create an array.\n",
      "    \n",
      "    Parameters\n",
      "    ----------\n",
      "    object : array_like\n",
      "        An array, any object exposing the array interface, an object whose\n",
      "        __array__ method returns an array, or any (nested) sequence.\n",
      "        If object is a scalar, a 0-dimensional array containing object is\n",
      "        returned.\n",
      "    dtype : data-type, optional\n",
      "        The desired data-type for the array.  If not given, then the type will\n",
      "        be determined as the minimum type required to hold the objects in the\n",
      "        sequence.\n",
      "    copy : bool, optional\n",
      "        If true (default), then the object is copied.  Otherwise, a copy will\n",
      "        only be made if __array__ returns a copy, if obj is a nested sequence,\n",
      "        or if a copy is needed to satisfy any of the other requirements\n",
      "        (`dtype`, `order`, etc.).\n",
      "    order : {'K', 'A', 'C', 'F'}, optional\n",
      "        Specify the memory layout of the array. If object is not an array, the\n",
      "        newly created array will be in C order (row major) unless 'F' is\n",
      "        specified, in which case it will be in Fortran order (column major).\n",
      "        If object is an array the following holds.\n",
      "    \n",
      "        ===== ========= ===================================================\n",
      "        order  no copy                     copy=True\n",
      "        ===== ========= ===================================================\n",
      "        'K'   unchanged F & C order preserved, otherwise most similar order\n",
      "        'A'   unchanged F order if input is F and not C, otherwise C order\n",
      "        'C'   C order   C order\n",
      "        'F'   F order   F order\n",
      "        ===== ========= ===================================================\n",
      "    \n",
      "        When ``copy=False`` and a copy is made for other reasons, the result is\n",
      "        the same as if ``copy=True``, with some exceptions for 'A', see the\n",
      "        Notes section. The default order is 'K'.\n",
      "    subok : bool, optional\n",
      "        If True, then sub-classes will be passed-through, otherwise\n",
      "        the returned array will be forced to be a base-class array (default).\n",
      "    ndmin : int, optional\n",
      "        Specifies the minimum number of dimensions that the resulting\n",
      "        array should have.  Ones will be pre-pended to the shape as\n",
      "        needed to meet this requirement.\n",
      "    like : array_like\n",
      "        Reference object to allow the creation of arrays which are not\n",
      "        NumPy arrays. If an array-like passed in as ``like`` supports\n",
      "        the ``__array_function__`` protocol, the result will be defined\n",
      "        by it. In this case, it ensures the creation of an array object\n",
      "        compatible with that passed in via this argument.\n",
      "    \n",
      "        .. versionadded:: 1.20.0\n",
      "    \n",
      "    Returns\n",
      "    -------\n",
      "    out : ndarray\n",
      "        An array object satisfying the specified requirements.\n",
      "    \n",
      "    See Also\n",
      "    --------\n",
      "    empty_like : Return an empty array with shape and type of input.\n",
      "    ones_like : Return an array of ones with shape and type of input.\n",
      "    zeros_like : Return an array of zeros with shape and type of input.\n",
      "    full_like : Return a new array with shape of input filled with value.\n",
      "    empty : Return a new uninitialized array.\n",
      "    ones : Return a new array setting values to one.\n",
      "    zeros : Return a new array setting values to zero.\n",
      "    full : Return a new array of given shape filled with value.\n",
      "    \n",
      "    \n",
      "    Notes\n",
      "    -----\n",
      "    When order is 'A' and `object` is an array in neither 'C' nor 'F' order,\n",
      "    and a copy is forced by a change in dtype, then the order of the result is\n",
      "    not necessarily 'C' as expected. This is likely a bug.\n",
      "    \n",
      "    Examples\n",
      "    --------\n",
      "    >>> np.array([1, 2, 3])\n",
      "    array([1, 2, 3])\n",
      "    \n",
      "    Upcasting:\n",
      "    \n",
      "    >>> np.array([1, 2, 3.0])\n",
      "    array([ 1.,  2.,  3.])\n",
      "    \n",
      "    More than one dimension:\n",
      "    \n",
      "    >>> np.array([[1, 2], [3, 4]])\n",
      "    array([[1, 2],\n",
      "           [3, 4]])\n",
      "    \n",
      "    Minimum dimensions 2:\n",
      "    \n",
      "    >>> np.array([1, 2, 3], ndmin=2)\n",
      "    array([[1, 2, 3]])\n",
      "    \n",
      "    Type provided:\n",
      "    \n",
      "    >>> np.array([1, 2, 3], dtype=complex)\n",
      "    array([ 1.+0.j,  2.+0.j,  3.+0.j])\n",
      "    \n",
      "    Data-type consisting of more than one element:\n",
      "    \n",
      "    >>> x = np.array([(1,2),(3,4)],dtype=[('a','<i4'),('b','<i4')])\n",
      "    >>> x['a']\n",
      "    array([1, 3])\n",
      "    \n",
      "    Creating an array from sub-classes:\n",
      "    \n",
      "    >>> np.array(np.mat('1 2; 3 4'))\n",
      "    array([[1, 2],\n",
      "           [3, 4]])\n",
      "    \n",
      "    >>> np.array(np.mat('1 2; 3 4'), subok=True)\n",
      "    matrix([[1, 2],\n",
      "            [3, 4]])\n",
      "\n"
     ]
    }
   ],
   "source": [
    "#call help\n",
    "# np.array? or\n",
    "help(np.array)"
   ]
  },
  {
   "cell_type": "markdown",
   "metadata": {
    "jp-MarkdownHeadingCollapsed": true,
    "tags": []
   },
   "source": [
    "# Basics"
   ]
  },
  {
   "cell_type": "code",
   "execution_count": 39,
   "metadata": {},
   "outputs": [
    {
     "name": "stdout",
     "output_type": "stream",
     "text": [
      "ID:  [1 2 3]\n",
      "ID's shape:  (3,)\n"
     ]
    }
   ],
   "source": [
    "#create array ID:[1,2,3]\n",
    "l = [1,2,3]\n",
    "ID = np.array(l)\n",
    "print(\"ID: \", ID)\n",
    "print(\"ID's shape: \", ID.shape)"
   ]
  },
  {
   "cell_type": "code",
   "execution_count": 40,
   "metadata": {},
   "outputs": [
    {
     "name": "stdout",
     "output_type": "stream",
     "text": [
      "ID:  [[1 2]\n",
      " [3 4]]\n",
      "ID's shape:  (2, 2)\n"
     ]
    }
   ],
   "source": [
    "#creating 2D array\n",
    "l = [[1,2],[3,4]]\n",
    "ID = np.array(l)\n",
    "print(\"ID: \", ID)\n",
    "print(\"ID's shape: \", ID.shape)"
   ]
  },
  {
   "cell_type": "code",
   "execution_count": 41,
   "metadata": {},
   "outputs": [
    {
     "data": {
      "text/plain": [
       "numpy.ndarray"
      ]
     },
     "execution_count": 41,
     "metadata": {},
     "output_type": "execute_result"
    }
   ],
   "source": [
    "type(ID)"
   ]
  },
  {
   "cell_type": "code",
   "execution_count": 42,
   "metadata": {
    "colab": {
     "base_uri": "https://localhost:8080/"
    },
    "id": "Gcivg4q-AVpH",
    "outputId": "923afcb1-0a6e-4ab5-ff62-02949e15a587"
   },
   "outputs": [
    {
     "name": "stdout",
     "output_type": "stream",
     "text": [
      "Z:  [0. 0. 0. 0.]\n",
      "Z's shape: (4,)\n"
     ]
    }
   ],
   "source": [
    "#=== Array with zero's ==\n",
    "Z = np.zeros((4,)) \n",
    "print(\"Z: \", Z)\n",
    "print(\"Z's shape:\", Z.shape)"
   ]
  },
  {
   "cell_type": "code",
   "execution_count": 43,
   "metadata": {},
   "outputs": [
    {
     "name": "stdout",
     "output_type": "stream",
     "text": [
      "Z:  [[0. 0.]\n",
      " [0. 0.]]\n",
      "Z's shape: (2, 2)\n"
     ]
    }
   ],
   "source": [
    "Z = np.zeros((2,2)) \n",
    "print(\"Z: \", Z)\n",
    "print(\"Z's shape:\", Z.shape)"
   ]
  },
  {
   "cell_type": "code",
   "execution_count": 44,
   "metadata": {
    "colab": {
     "base_uri": "https://localhost:8080/"
    },
    "id": "XF3c_MpFAiGJ",
    "outputId": "ea878c45-fa50-4520-9249-0db4249b6ced"
   },
   "outputs": [
    {
     "name": "stdout",
     "output_type": "stream",
     "text": [
      "O: [1. 1. 1. 1.]\n",
      "O: [1. 0. 1. 1.]\n"
     ]
    }
   ],
   "source": [
    "# === Array with ones's ==\n",
    "O = np.ones((4,))\n",
    "print(\"O:\", O)\n",
    "O[1] = 0.\n",
    "print(\"O:\", O)"
   ]
  },
  {
   "cell_type": "code",
   "execution_count": 45,
   "metadata": {
    "colab": {
     "base_uri": "https://localhost:8080/"
    },
    "id": "_VekcZxsBUnO",
    "outputId": "06f40c0a-4118-4f3c-b2c6-7b50fdb9c469"
   },
   "outputs": [
    {
     "name": "stdout",
     "output_type": "stream",
     "text": [
      "x:  [ 5.   7.5 10.  12.5 15. ]\n",
      "x's shape: (5,)\n"
     ]
    }
   ],
   "source": [
    "#== linspace - returns values from an interval ==\n",
    "x_min, x_max = 5, 15\n",
    "x = np.linspace(start=x_min, stop=x_max, num=5)\n",
    "print(\"x: \", x)\n",
    "print(\"x's shape:\", x.shape)"
   ]
  },
  {
   "cell_type": "code",
   "execution_count": 46,
   "metadata": {
    "colab": {
     "base_uri": "https://localhost:8080/"
    },
    "id": "Cbz7IqAxAumv",
    "outputId": "07aed62f-b7e1-43ff-f2cc-7f9c5f622612"
   },
   "outputs": [
    {
     "name": "stdout",
     "output_type": "stream",
     "text": [
      "x:  [[1. 0. 0. 0.]\n",
      " [0. 1. 0. 0.]\n",
      " [0. 0. 1. 0.]\n",
      " [0. 0. 0. 1.]]\n",
      "x's shape:  (4, 4)\n"
     ]
    }
   ],
   "source": [
    "#== Eye method ==\n",
    "n = 4\n",
    "x = np.eye(n)\n",
    "print(\"x: \", x) \n",
    "print(\"x's shape: \", x.shape) "
   ]
  },
  {
   "cell_type": "code",
   "execution_count": 47,
   "metadata": {
    "colab": {
     "base_uri": "https://localhost:8080/"
    },
    "id": "f181SxvWBOpt",
    "outputId": "f3c848b5-d741-4e2d-a8ee-26bdf2e89990"
   },
   "outputs": [
    {
     "name": "stdout",
     "output_type": "stream",
     "text": [
      "x:\n",
      " [[0.50786915 0.80493683 0.43265539]\n",
      " [0.72246131 0.70117866 0.67908824]]\n",
      "x's shape:  (2, 3)\n"
     ]
    }
   ],
   "source": [
    "#=== Random method ==\n",
    "x = np.random.random(size=(2,3))\n",
    "print(\"x:\\n\", x) \n",
    "print(\"x's shape: \", x.shape) "
   ]
  },
  {
   "cell_type": "code",
   "execution_count": 48,
   "metadata": {
    "colab": {
     "base_uri": "https://localhost:8080/"
    },
    "id": "v3yf0RK0GpgZ",
    "outputId": "54143674-1dd6-4c1f-e713-b6898e9f27eb"
   },
   "outputs": [
    {
     "name": "stdout",
     "output_type": "stream",
     "text": [
      "3.141592653589793\n"
     ]
    }
   ],
   "source": [
    "print(np.pi)"
   ]
  },
  {
   "cell_type": "markdown",
   "metadata": {
    "jp-MarkdownHeadingCollapsed": true,
    "tags": []
   },
   "source": [
    "# Array Indexing Numpy"
   ]
  },
  {
   "cell_type": "code",
   "execution_count": 49,
   "metadata": {},
   "outputs": [
    {
     "name": "stdout",
     "output_type": "stream",
     "text": [
      "x:\n",
      " [ 10.  20.  30.  40.  50.  60.  70.  80.  90. 100.]\n",
      "x's shape:  (10,)\n"
     ]
    }
   ],
   "source": [
    "#index starts from 0 to n-1\n",
    "x = np.linspace(start=10, stop=100, num=10)\n",
    "print(\"x:\\n\", x) \n",
    "print(\"x's shape: \", x.shape) "
   ]
  },
  {
   "cell_type": "code",
   "execution_count": 50,
   "metadata": {},
   "outputs": [
    {
     "name": "stdout",
     "output_type": "stream",
     "text": [
      "first element: 10.0\n",
      "second element: 20.0\n",
      "last element: 100.0\n",
      "last element - different way: 100.0\n"
     ]
    }
   ],
   "source": [
    "#acessing each element\n",
    "print(\"first element:\", x[0])\n",
    "print(\"second element:\", x[1])\n",
    "print(\"last element:\", x[9])\n",
    "print(\"last element - different way:\", x[-1])"
   ]
  },
  {
   "cell_type": "code",
   "execution_count": 51,
   "metadata": {},
   "outputs": [
    {
     "name": "stdout",
     "output_type": "stream",
     "text": [
      "2 first elements:  [10. 20.]\n",
      "2 first elements - different way:  [10. 20.]\n",
      "2 last elements:  [ 90. 100.]\n"
     ]
    }
   ],
   "source": [
    "#slicing: subarrays\n",
    "print(\"2 first elements: \", x[0:2])\n",
    "print(\"2 first elements - different way: \", x[:2])\n",
    "print(\"2 last elements: \", x[-2:])"
   ]
  },
  {
   "cell_type": "code",
   "execution_count": 52,
   "metadata": {},
   "outputs": [
    {
     "name": "stdout",
     "output_type": "stream",
     "text": [
      "x:\n",
      " [[ 10.  20.  30.  40.  50.]\n",
      " [ 60.  70.  80.  90. 100.]]\n",
      "x's shape:  (2, 5)\n"
     ]
    }
   ],
   "source": [
    "#slicing: 2D with reshape\n",
    "x = x.reshape(2,5) #2 rows and 5 columns\n",
    "print(\"x:\\n\",x)\n",
    "print(\"x's shape: \", x.shape) "
   ]
  },
  {
   "cell_type": "code",
   "execution_count": 53,
   "metadata": {},
   "outputs": [
    {
     "name": "stdout",
     "output_type": "stream",
     "text": [
      "first row, second column: 20.0\n",
      "second row, penultimate column: 90.0\n",
      "fisrt row, last column: 50.0\n",
      "last row - last column: 100.0\n"
     ]
    }
   ],
   "source": [
    "#acessing each element\n",
    "print(\"first row, second column:\", x[0,1])\n",
    "print(\"second row, penultimate column:\", x[1,-2])\n",
    "print(\"fisrt row, last column:\", x[0,4])\n",
    "print(\"last row - last column:\", x[-1,-1])"
   ]
  },
  {
   "cell_type": "code",
   "execution_count": 54,
   "metadata": {},
   "outputs": [
    {
     "name": "stdout",
     "output_type": "stream",
     "text": [
      "x:\n",
      " [[ 10.  20.  30.  40.  50.]\n",
      " [ 60.  70.  80.  90. 100.]]\n",
      "first row:  [10. 20. 30. 40. 50.]\n",
      "first row, from 2nd to 4th column:  [20. 30. 40.]\n",
      "last colum [[ 50.]\n",
      " [100.]]\n"
     ]
    }
   ],
   "source": [
    "#slicing: 2D subarrays\n",
    "print(\"x:\\n\", x) \n",
    "print(\"first row: \", x[0, :])\n",
    "print(\"first row, from 2nd to 4th column: \", x[0, 1:4])\n",
    "print(\"last colum\", x[:, [-1]])"
   ]
  },
  {
   "cell_type": "code",
   "execution_count": 55,
   "metadata": {
    "colab": {
     "base_uri": "https://localhost:8080/"
    },
    "id": "VWF56B9qB2nY",
    "outputId": "c755e052-766a-431e-dc0e-8831df0407f8"
   },
   "outputs": [
    {
     "name": "stdout",
     "output_type": "stream",
     "text": [
      "X\n",
      ":  [[ 1 10]\n",
      " [ 3  4]]\n",
      "Y:  [ 1 10]\n"
     ]
    }
   ],
   "source": [
    "#== copying using index ==\n",
    "X = np.array([[1,2], [3,4]])\n",
    "Y = X[0, :]\n",
    "Y[1] = 10\n",
    "print(\"X\\n: \", X)\n",
    "print(\"Y: \", Y)"
   ]
  },
  {
   "cell_type": "code",
   "execution_count": 56,
   "metadata": {},
   "outputs": [
    {
     "name": "stdout",
     "output_type": "stream",
     "text": [
      "X before\n",
      ":  [1 2 3]\n",
      "X after\n",
      ":  [-100    2    3]\n"
     ]
    }
   ],
   "source": [
    "#Caution: subarrays shared memory space\n",
    "X = np.array([1,2,3])\n",
    "print(\"X before\\n: \", X)\n",
    "Y = X[:2]\n",
    "Y[0] = -100\n",
    "print(\"X after\\n: \", X)"
   ]
  },
  {
   "cell_type": "code",
   "execution_count": 57,
   "metadata": {},
   "outputs": [
    {
     "name": "stdout",
     "output_type": "stream",
     "text": [
      "X before\n",
      ":  [1 2 3]\n",
      "X after\n",
      ":  [1 2 3]\n"
     ]
    }
   ],
   "source": [
    "#Using copy(): subarrays shared memory space\n",
    "X = np.array([1,2,3])\n",
    "print(\"X before\\n: \", X)\n",
    "Y = X[:2].copy()\n",
    "Y[0] = -100\n",
    "print(\"X after\\n: \", X)"
   ]
  },
  {
   "cell_type": "code",
   "execution_count": 58,
   "metadata": {
    "colab": {
     "base_uri": "https://localhost:8080/"
    },
    "id": "z5GhXbv0CN9f",
    "outputId": "6a2a9cd1-8b13-4d81-b17c-2e8530164ef3"
   },
   "outputs": [
    {
     "name": "stdout",
     "output_type": "stream",
     "text": [
      "[11 10]\n"
     ]
    }
   ],
   "source": [
    "#An example of advanced indexing.\n",
    "#Access all x` elements bigger than pi.===\n",
    "X = np.array([[1,3], [11,10]])\n",
    "print(X[X> np.pi])"
   ]
  },
  {
   "cell_type": "markdown",
   "metadata": {
    "jp-MarkdownHeadingCollapsed": true,
    "tags": []
   },
   "source": [
    "# NumPy - Arithmetic Operations"
   ]
  },
  {
   "cell_type": "code",
   "execution_count": 59,
   "metadata": {},
   "outputs": [
    {
     "name": "stdout",
     "output_type": "stream",
     "text": [
      "First array:\n",
      " [[0 1 2]\n",
      " [3 4 5]\n",
      " [6 7 8]]\n",
      "Second array:\n",
      " [10 10 10]\n"
     ]
    }
   ],
   "source": [
    "a = np.arange(9, dtype = np.int_).reshape(3,3) \n",
    "b = np.array([10,10,10]) \n",
    "print('First array:\\n',a)\n",
    "print('Second array:\\n',b)"
   ]
  },
  {
   "cell_type": "code",
   "execution_count": 60,
   "metadata": {},
   "outputs": [
    {
     "name": "stdout",
     "output_type": "stream",
     "text": [
      "Add 2 arrays: \n",
      " [[10 11 12]\n",
      " [13 14 15]\n",
      " [16 17 18]]\n",
      "Add 2 arrays with add(): \n",
      " [[10 11 12]\n",
      " [13 14 15]\n",
      " [16 17 18]]\n",
      "Add 2 to an array: \n",
      " [[ 2  3  4]\n",
      " [ 5  6  7]\n",
      " [ 8  9 10]]\n"
     ]
    }
   ],
   "source": [
    "#Adding\n",
    "print(\"Add 2 arrays: \\n\", a + b)\n",
    "print(\"Add 2 arrays with add(): \\n\", np.add(a,b))\n",
    "print(\"Add 2 to an array: \\n\", a + 2) #broadcasting"
   ]
  },
  {
   "cell_type": "code",
   "execution_count": 61,
   "metadata": {},
   "outputs": [
    {
     "name": "stdout",
     "output_type": "stream",
     "text": [
      "Subtract 2 arrays: \n",
      " [[-10  -9  -8]\n",
      " [ -7  -6  -5]\n",
      " [ -4  -3  -2]]\n",
      "Subtract 2 arrays with subtract(): \n",
      " [[-10  -9  -8]\n",
      " [ -7  -6  -5]\n",
      " [ -4  -3  -2]]\n",
      "Subtract 2 from an array: \n",
      " [[-2 -1  0]\n",
      " [ 1  2  3]\n",
      " [ 4  5  6]]\n"
     ]
    }
   ],
   "source": [
    "#Subtracting\n",
    "print(\"Subtract 2 arrays: \\n\", a - b)\n",
    "print(\"Subtract 2 arrays with subtract(): \\n\", np.subtract(a,b))\n",
    "print(\"Subtract 2 from an array: \\n\", a - 2) #broadcasting"
   ]
  },
  {
   "cell_type": "code",
   "execution_count": 62,
   "metadata": {},
   "outputs": [
    {
     "name": "stdout",
     "output_type": "stream",
     "text": [
      "Multiply 2 arrays: \n",
      " [[ 0 10 20]\n",
      " [30 40 50]\n",
      " [60 70 80]]\n",
      "Multiply 2 arrays with multiply(): \n",
      " [[ 0 10 20]\n",
      " [30 40 50]\n",
      " [60 70 80]]\n",
      "Multiply 2 from an array: \n",
      " [[ 0  2  4]\n",
      " [ 6  8 10]\n",
      " [12 14 16]]\n"
     ]
    }
   ],
   "source": [
    "#Multiply\n",
    "print(\"Multiply 2 arrays: \\n\", a * b)\n",
    "print(\"Multiply 2 arrays with multiply(): \\n\", np.multiply(a,b))\n",
    "print(\"Multiply 2 from an array: \\n\", a * 2) #broadcasting"
   ]
  },
  {
   "cell_type": "code",
   "execution_count": 63,
   "metadata": {},
   "outputs": [
    {
     "name": "stdout",
     "output_type": "stream",
     "text": [
      "Divide 2 arrays: \n",
      " [[0.  0.1 0.2]\n",
      " [0.3 0.4 0.5]\n",
      " [0.6 0.7 0.8]]\n",
      "Divide 2 arrays with divide(): \n",
      " [[0.  0.1 0.2]\n",
      " [0.3 0.4 0.5]\n",
      " [0.6 0.7 0.8]]\n",
      "Divide 2 from an array: \n",
      " [[0.  0.5 1. ]\n",
      " [1.5 2.  2.5]\n",
      " [3.  3.5 4. ]]\n"
     ]
    }
   ],
   "source": [
    "#Divide\n",
    "print(\"Divide 2 arrays: \\n\", a / b)\n",
    "print(\"Divide 2 arrays with divide(): \\n\", np.divide(a,b))\n",
    "print(\"Divide 2 from an array: \\n\", a / 2) #broadcasting"
   ]
  },
  {
   "cell_type": "code",
   "execution_count": 64,
   "metadata": {},
   "outputs": [
    {
     "name": "stdout",
     "output_type": "stream",
     "text": [
      "A:\n",
      " [  10  100 1000]\n",
      "A power 2:\n",
      " [    100   10000 1000000]\n",
      "Applying power function again with 2 arrays:\n",
      " [        10      10000 1000000000]\n"
     ]
    }
   ],
   "source": [
    "#power\n",
    "a = np.array([10,100,1000]) \n",
    "\n",
    "print('A:\\n',a) \n",
    "print ('A power 2:\\n', np.power(a,2))\n",
    "b = np.array([1,2,3]) \n",
    "\n",
    "print('Applying power function again with 2 arrays:\\n',np.power(a,b))"
   ]
  },
  {
   "cell_type": "code",
   "execution_count": 65,
   "metadata": {},
   "outputs": [
    {
     "name": "stdout",
     "output_type": "stream",
     "text": [
      "A: \n",
      " [12 28 30]\n",
      "B: \n",
      " [3 5 7]\n",
      "Applying mod() function:\n",
      " [0 3 2]\n",
      "Applying remainder() function:\n",
      " [0 3 2]\n"
     ]
    }
   ],
   "source": [
    "#mod and remainder both functions returns the remainder of division\n",
    "\n",
    "a = np.array([12,28,30]) \n",
    "b = np.array([3,5,7]) \n",
    "\n",
    "print(\"A: \\n\", a)\n",
    "print(\"B: \\n\", b)\n",
    "print('Applying mod() function:\\n', np.mod(a,b)) \n",
    "print('Applying remainder() function:\\n', np.remainder(a,b) )"
   ]
  },
  {
   "cell_type": "code",
   "execution_count": 66,
   "metadata": {},
   "outputs": [],
   "source": [
    "# when broadcasting doenst work\n",
    "# np.array([1,2,3]) + np.array([1,2])"
   ]
  },
  {
   "cell_type": "code",
   "execution_count": 67,
   "metadata": {},
   "outputs": [
    {
     "name": "stdout",
     "output_type": "stream",
     "text": [
      "Combination: \n",
      " [7.5        8.25       6.16666667]\n"
     ]
    }
   ],
   "source": [
    "#Add + Subtract + Division all together\n",
    "print(\"Combination: \\n\", (a+b)/(b-1))"
   ]
  },
  {
   "cell_type": "markdown",
   "metadata": {
    "tags": []
   },
   "source": [
    "# Matrix Operations in Numpy "
   ]
  },
  {
   "cell_type": "code",
   "execution_count": 68,
   "metadata": {},
   "outputs": [
    {
     "name": "stdout",
     "output_type": "stream",
     "text": [
      "a: \n",
      " [[1. 1.]\n",
      " [1. 1.]]\n",
      "b: \n",
      " [[2. 0.]\n",
      " [0. 2.]]\n"
     ]
    }
   ],
   "source": [
    "a = np.ones((2,2)) \n",
    "b = 2 * np.eye((2))\n",
    "print(\"a: \\n\", a)\n",
    "print(\"b: \\n\", b)"
   ]
  },
  {
   "cell_type": "code",
   "execution_count": 69,
   "metadata": {},
   "outputs": [
    {
     "name": "stdout",
     "output_type": "stream",
     "text": [
      "Multiply 2 arrays: \n",
      " [[2. 0.]\n",
      " [0. 2.]]\n",
      "Multiply 2 arrays with multiply(): \n",
      " [[2. 0.]\n",
      " [0. 2.]]\n",
      "Multiply 2 from an array: \n",
      " [[2. 2.]\n",
      " [2. 2.]]\n"
     ]
    }
   ],
   "source": [
    "#Multiply - Review\n",
    "print(\"Multiply 2 arrays: \\n\", a * b)\n",
    "print(\"Multiply 2 arrays with multiply(): \\n\", np.multiply(a,b))\n",
    "print(\"Multiply 2 from an array: \\n\", a * 2) #broadcasting"
   ]
  },
  {
   "cell_type": "code",
   "execution_count": 70,
   "metadata": {},
   "outputs": [
    {
     "name": "stdout",
     "output_type": "stream",
     "text": [
      "Multiply Matrices: (np.dot) \n",
      " [[2. 2.]\n",
      " [2. 2.]]\n",
      "Multiply Matrices: (@) \n",
      " [[2. 2.]\n",
      " [2. 2.]]\n",
      "Multiply Matrices: (.dot) \n",
      " [[2. 2.]\n",
      " [2. 2.]]\n",
      "Multiply Matrices: (np.inner) \n",
      " [[2. 2.]\n",
      " [2. 2.]]\n"
     ]
    }
   ],
   "source": [
    "# np.inner() or np.dot() same result\n",
    "print(\"Multiply Matrices: (np.dot) \\n\", np.dot(a,b))\n",
    "print(\"Multiply Matrices: (@) \\n\", (a@b))\n",
    "print(\"Multiply Matrices: (.dot) \\n\", (a.dot(b)))\n",
    "print(\"Multiply Matrices: (np.inner) \\n\", (np.inner(a,b)))"
   ]
  },
  {
   "cell_type": "code",
   "execution_count": 71,
   "metadata": {},
   "outputs": [
    {
     "name": "stdout",
     "output_type": "stream",
     "text": [
      "a <class 'numpy.ndarray'>\n",
      "b <class 'numpy.ndarray'>\n"
     ]
    }
   ],
   "source": [
    "print(\"a\", type(a))\n",
    "print(\"b\", type(b))"
   ]
  },
  {
   "cell_type": "markdown",
   "metadata": {},
   "source": [
    "### Problem: \n",
    "Ax = c \n",
    "Where:\n",
    "- x = [a,b]\n",
    "- A = [[1,2], [3, -2]]\n",
    "- c = [7, -11]\n",
    "### Solution: \n",
    "x = inv(A) @ c"
   ]
  },
  {
   "cell_type": "code",
   "execution_count": 72,
   "metadata": {},
   "outputs": [
    {
     "name": "stdout",
     "output_type": "stream",
     "text": [
      "A: \n",
      " [[ 1  2]\n",
      " [ 3 -2]]\n",
      "c: \n",
      " [  7 -11]\n"
     ]
    }
   ],
   "source": [
    "A = np.array([[1,2], [3, -2]])\n",
    "c = np.array([7, -11])\n",
    "print(\"A: \\n\", A)\n",
    "print(\"c: \\n\", c)"
   ]
  },
  {
   "cell_type": "code",
   "execution_count": 73,
   "metadata": {},
   "outputs": [
    {
     "name": "stdout",
     "output_type": "stream",
     "text": [
      "(a,b): \n",
      " [-1.  4.]\n"
     ]
    }
   ],
   "source": [
    "#x = np.dot(np.linalg.inv(A), c)\n",
    "x = np.linalg.inv(A) @ c\n",
    "print(\"(a,b): \\n\", x.ravel())"
   ]
  },
  {
   "cell_type": "markdown",
   "metadata": {
    "jp-MarkdownHeadingCollapsed": true,
    "tags": []
   },
   "source": [
    "# Comparison "
   ]
  },
  {
   "cell_type": "code",
   "execution_count": 74,
   "metadata": {},
   "outputs": [
    {
     "name": "stdout",
     "output_type": "stream",
     "text": [
      "x: \n",
      " [[1 2]\n",
      " [3 4]]\n",
      "y: \n",
      " [[1.5 3.5]]\n"
     ]
    }
   ],
   "source": [
    "# create arrays:\n",
    "x = np.array([[1,2], [3,4]])\n",
    "y = np.array([[1.5,3.5]])\n",
    "print(\"x: \\n\",x)\n",
    "print(\"y: \\n\",y)"
   ]
  },
  {
   "cell_type": "code",
   "execution_count": 75,
   "metadata": {},
   "outputs": [
    {
     "name": "stdout",
     "output_type": "stream",
     "text": [
      "Compare an array with a number (>): \n",
      " [[False False]\n",
      " [ True  True]]\n",
      "Compare an array with a number (>=): \n",
      " [[False  True]\n",
      " [ True  True]]\n",
      "Compare an array with a number (<): \n",
      " [[ True  True]\n",
      " [False False]]\n",
      "Compare an array with a number (<=): \n",
      " [[ True  True]\n",
      " [False False]]\n"
     ]
    }
   ],
   "source": [
    "# compare with a scalar\n",
    "print(\"Compare an array with a number (>): \\n\", x > 2)\n",
    "print(\"Compare an array with a number (>=): \\n\", x >= 2)\n",
    "print(\"Compare an array with a number (<): \\n\", x <= 2)\n",
    "print(\"Compare an array with a number (<=): \\n\", x <= 2)"
   ]
  },
  {
   "cell_type": "code",
   "execution_count": 76,
   "metadata": {},
   "outputs": [
    {
     "name": "stdout",
     "output_type": "stream",
     "text": [
      "Compare arrays (>): \n",
      " [[False False]\n",
      " [ True  True]]\n",
      "Compare arrays (>=): \n",
      " [[False False]\n",
      " [ True  True]]\n",
      "Compare arrays (<): \n",
      " [[ True  True]\n",
      " [False False]]\n",
      "Compare arrays (<=): \n",
      " [[ True  True]\n",
      " [False False]]\n",
      "Compare arrays (==): \n",
      " [[False False]\n",
      " [False False]]\n",
      "Compare arrays (==): \n",
      " [[ True  True]\n",
      " [ True  True]]\n"
     ]
    }
   ],
   "source": [
    "# compare array and array\n",
    "print(\"Compare arrays (>): \\n\", x > y)\n",
    "print(\"Compare arrays (>=): \\n\", x >= y)\n",
    "print(\"Compare arrays (<): \\n\", x <= y)\n",
    "print(\"Compare arrays (<=): \\n\", x <= y)\n",
    "print(\"Compare arrays (==): \\n\", x == y)\n",
    "print(\"Compare arrays (==): \\n\", x == x)"
   ]
  },
  {
   "cell_type": "code",
   "execution_count": 77,
   "metadata": {},
   "outputs": [
    {
     "name": "stdout",
     "output_type": "stream",
     "text": [
      "False\n",
      "True\n"
     ]
    }
   ],
   "source": [
    "#method all() compare each position of the array\n",
    "equal_arrays = (x == y).all()\n",
    "print(equal_arrays)\n",
    "\n",
    "a = np.array([[1, 1], [2, 2]])\n",
    "b = np.array([[1, 1], [2, 2]])\n",
    "equal_arrays = (a == b).all()\n",
    "print(equal_arrays)"
   ]
  },
  {
   "cell_type": "code",
   "execution_count": 78,
   "metadata": {},
   "outputs": [
    {
     "name": "stdout",
     "output_type": "stream",
     "text": [
      "Compare arrays (>): \n",
      " [[False False]\n",
      " [ True  True]]\n",
      "Compare arrays (>=): \n",
      " [[False False]\n",
      " [ True  True]]\n",
      "Compare arrays (<): \n",
      " [[ True  True]\n",
      " [False False]]\n",
      "Compare arrays (<=): \n",
      " [[ True  True]\n",
      " [False False]]\n",
      "Compare arrays (==): \n",
      " [[False False]\n",
      " [False False]]\n",
      "Compare arrays (==): \n",
      " [[ True  True]\n",
      " [ True  True]]\n"
     ]
    }
   ],
   "source": [
    "print(\"Compare arrays (>): \\n\", np.greater(x, y))\n",
    "print(\"Compare arrays (>=): \\n\",np.greater_equal(x, y))\n",
    "print(\"Compare arrays (<): \\n\", np.less(x, y))\n",
    "print(\"Compare arrays (<=): \\n\",np.less_equal(x, y))\n",
    "print(\"Compare arrays (==): \\n\",np.equal(x, y))\n",
    "print(\"Compare arrays (==): \\n\",np.equal(x, x))"
   ]
  },
  {
   "cell_type": "markdown",
   "metadata": {
    "jp-MarkdownHeadingCollapsed": true,
    "tags": []
   },
   "source": [
    "# Boolean Indexing"
   ]
  },
  {
   "cell_type": "code",
   "execution_count": 79,
   "metadata": {},
   "outputs": [
    {
     "name": "stdout",
     "output_type": "stream",
     "text": [
      "x: \n",
      " [[ 1  3  7]\n",
      " [ 4 11 21]\n",
      " [42  8  9]]\n"
     ]
    }
   ],
   "source": [
    "x = np.array([[1,3,7],\n",
    "            [4,11,21],\n",
    "            [42,8,9]])\n",
    "print(\"x: \\n\", x)"
   ]
  },
  {
   "cell_type": "code",
   "execution_count": 80,
   "metadata": {},
   "outputs": [
    {
     "name": "stdout",
     "output_type": "stream",
     "text": [
      "condition: \n",
      " [[False False False]\n",
      " [False  True  True]\n",
      " [ True False False]]\n",
      "elements greater than 10: [11 21 42]\n",
      "quantity of elements greater than 10: 3\n"
     ]
    }
   ],
   "source": [
    "# return elements greater than k\n",
    "k = 10\n",
    "cond = x > k\n",
    "print(\"condition: \\n\", cond)\n",
    "print(f\"elements greater than {k}:\", x[cond])\n",
    "print(f\"quantity of elements greater than {k}:\", len(x[cond]))"
   ]
  },
  {
   "cell_type": "code",
   "execution_count": 81,
   "metadata": {},
   "outputs": [
    {
     "name": "stdout",
     "output_type": "stream",
     "text": [
      "condition: \n",
      " [[False False False]\n",
      " [ True False False]\n",
      " [ True  True False]]\n",
      "even numbers: \n",
      " [ 4 42  8]\n"
     ]
    }
   ],
   "source": [
    "# even numbers\n",
    "cond = x % 2 == 0\n",
    "print(\"condition: \\n\", cond)\n",
    "print(\"even numbers: \\n\", x[cond])"
   ]
  },
  {
   "cell_type": "code",
   "execution_count": 82,
   "metadata": {},
   "outputs": [
    {
     "name": "stdout",
     "output_type": "stream",
     "text": [
      "condition: \n",
      " [[ True  True  True]\n",
      " [False  True  True]\n",
      " [False False  True]]\n",
      "even numbers: \n",
      " [ 1  3  7 11 21  9]\n"
     ]
    }
   ],
   "source": [
    "# odd numbers\n",
    "cond = x % 2 == 1\n",
    "print(\"condition: \\n\", cond)\n",
    "print(\"even numbers: \\n\", x[cond])"
   ]
  },
  {
   "cell_type": "markdown",
   "metadata": {
    "tags": []
   },
   "source": [
    "# Another operations"
   ]
  },
  {
   "cell_type": "code",
   "execution_count": 83,
   "metadata": {},
   "outputs": [
    {
     "name": "stdout",
     "output_type": "stream",
     "text": [
      "x: \n",
      " [[ 1  3  7]\n",
      " [ 4 11 21]\n",
      " [42  8  9]]\n",
      "Change a array one column: \n",
      " [[ 1]\n",
      " [ 3]\n",
      " [ 7]\n",
      " [ 4]\n",
      " [11]\n",
      " [21]\n",
      " [42]\n",
      " [ 8]\n",
      " [ 9]]\n",
      "Change a array one line: \n",
      " [[ 1  3  7  4 11 21 42  8  9]]\n"
     ]
    }
   ],
   "source": [
    "# Reshape\n",
    "print(\"x: \\n\", x)\n",
    "print(\"Change a array one column: \\n\", x.reshape(9,1))\n",
    "print(\"Change a array one line: \\n\", x.reshape(1,9))"
   ]
  },
  {
   "cell_type": "code",
   "execution_count": 84,
   "metadata": {},
   "outputs": [
    {
     "name": "stdout",
     "output_type": "stream",
     "text": [
      "[[ 1  4 42]\n",
      " [ 3 11  8]\n",
      " [ 7 21  9]]\n",
      "[[ 1  4 42]\n",
      " [ 3 11  8]\n",
      " [ 7 21  9]]\n"
     ]
    }
   ],
   "source": [
    "#Transpose\n",
    "print(x.T)\n",
    "print(np.transpose(x))"
   ]
  },
  {
   "cell_type": "code",
   "execution_count": 85,
   "metadata": {},
   "outputs": [
    {
     "name": "stdout",
     "output_type": "stream",
     "text": [
      "x: \n",
      " [[ 1  3  7]\n",
      " [ 4 11 21]\n",
      " [42  8  9]]\n",
      "sum(x) row: \n",
      " [47 22 37]\n",
      "sum(x): column \n",
      " [11 36 59]\n",
      "sum(x): \n",
      " 106\n"
     ]
    }
   ],
   "source": [
    "#Sum axis = {0: column, 1 : row}\n",
    "print(\"x: \\n\", x)\n",
    "print(\"sum(x) row: \\n\", np.sum(x, axis=0))\n",
    "print(\"sum(x): column \\n\", np.sum(x, axis=1))\n",
    "print(\"sum(x): \\n\", np.sum(x)) # each number"
   ]
  },
  {
   "cell_type": "code",
   "execution_count": 86,
   "metadata": {},
   "outputs": [
    {
     "name": "stdout",
     "output_type": "stream",
     "text": [
      "x: \n",
      " [[ 1  3  7]\n",
      " [ 4 11 21]\n",
      " [42  8  9]]\n",
      "mean(x) row: \n",
      " [15.66666667  7.33333333 12.33333333]\n",
      "mean(x): column \n",
      " [ 3.66666667 12.         19.66666667]\n",
      "mean(x): \n",
      " 11.777777777777779\n"
     ]
    }
   ],
   "source": [
    "#mean axis = {0: column, 1 : row}\n",
    "print(\"x: \\n\", x)\n",
    "print(\"mean(x) row: \\n\", np.mean(x, axis=0))\n",
    "print(\"mean(x): column \\n\", np.mean(x, axis=1))\n",
    "print(\"mean(x): \\n\", np.mean(x)) # each number"
   ]
  },
  {
   "cell_type": "code",
   "execution_count": 87,
   "metadata": {},
   "outputs": [
    {
     "name": "stdout",
     "output_type": "stream",
     "text": [
      "condition: \n",
      " [[False False False]\n",
      " [ True False False]\n",
      " [ True  True False]]\n",
      "rows indexes: \n",
      " [1 2 2]\n",
      "rows indexes: \n",
      " [0 0 1]\n"
     ]
    }
   ],
   "source": [
    "#np.where, identify the indexes where a certain condition is True\n",
    "# even numbers\n",
    "cond = x % 2 == 0\n",
    "print(\"condition: \\n\", cond)\n",
    "i , j = np.where(cond)\n",
    "print(\"rows indexes: \\n\", i)\n",
    "print(\"rows indexes: \\n\", j)"
   ]
  },
  {
   "cell_type": "code",
   "execution_count": 88,
   "metadata": {},
   "outputs": [
    {
     "name": "stdout",
     "output_type": "stream",
     "text": [
      "Indexes fo rows where contains even numbers:  [1 2]\n",
      "Rows with even numbers: \n",
      " [[ 4 11 21]\n",
      " [42  8  9]]\n"
     ]
    }
   ],
   "source": [
    "i_row = np.where(np.sum(cond, axis=1))[0]\n",
    "print(\"Indexes fo rows where contains even numbers: \", i_row)\n",
    "print(\"Rows with even numbers: \\n\", x[i_row, :])"
   ]
  },
  {
   "cell_type": "code",
   "execution_count": null,
   "metadata": {},
   "outputs": [],
   "source": []
  }
 ],
 "metadata": {
  "colab": {
   "name": "BasicsDataFrame.ipynb",
   "provenance": []
  },
  "kernelspec": {
   "display_name": "data_collections",
   "language": "python",
   "name": "data_collections"
  },
  "language_info": {
   "codemirror_mode": {
    "name": "ipython",
    "version": 3
   },
   "file_extension": ".py",
   "mimetype": "text/x-python",
   "name": "python",
   "nbconvert_exporter": "python",
   "pygments_lexer": "ipython3",
   "version": "3.8.10"
  },
  "toc-autonumbering": false,
  "toc-showmarkdowntxt": false
 },
 "nbformat": 4,
 "nbformat_minor": 4
}
