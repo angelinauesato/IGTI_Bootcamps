{
 "cells": [
  {
   "cell_type": "code",
   "execution_count": 1,
   "id": "41ce2a7d-971d-492f-b50a-c220927fe640",
   "metadata": {},
   "outputs": [],
   "source": [
    "#import needed packs\n",
    "import dask.dataframe as dd\n",
    "import pandas as pd\n",
    "import numpy as np\n"
   ]
  },
  {
   "cell_type": "code",
   "execution_count": 2,
   "id": "171064b4-2701-498a-afe7-b7c1ddbf4af2",
   "metadata": {},
   "outputs": [],
   "source": [
    "enem = pd.read_csv('./aws_s3/data/MICRODADOS_ENEM_2020.csv',sep=';', decimal=',', encoding='latin1')"
   ]
  },
  {
   "cell_type": "code",
   "execution_count": 3,
   "id": "67805d54-93eb-4bd7-81b3-139ad307c72b",
   "metadata": {},
   "outputs": [
    {
     "data": {
      "text/plain": [
       "500.69"
      ]
     },
     "execution_count": 3,
     "metadata": {},
     "output_type": "execute_result"
    }
   ],
   "source": [
    "#Q6: Sobre o ENEM 2020, qual é a média da nota em matemática apenas para as alunas do sexo Feminino? \n",
    "#About ENEM 2020, what is the average grade in mathematics only for female students?\n",
    "pd_femino = enem.loc[enem['TP_SEXO'] == 'F']\n",
    "round(pd.to_numeric(pd_femino.NU_NOTA_MT).mean(), 2)"
   ]
  },
  {
   "cell_type": "code",
   "execution_count": 4,
   "id": "91eb5864-334e-4ec0-ab43-8b242729993f",
   "metadata": {},
   "outputs": [
    {
     "data": {
      "text/plain": [
       "553.68"
      ]
     },
     "execution_count": 4,
     "metadata": {},
     "output_type": "execute_result"
    }
   ],
   "source": [
    "#Q7: Qual é a média da nota em Ciências Humanas para os alunos do sexo masculino que estudaram numa escola no estado de São Paulo? \n",
    "#What is the average grade in Human Sciences for male students who studied at a school in the state of São Paulo?\n",
    "pd_masculino = enem.loc[\n",
    "    (enem['TP_SEXO'] == 'M') &\n",
    "    (enem['SG_UF_ESC'] == 'SP')]\n",
    "round(pd.to_numeric(pd_masculino.NU_NOTA_CH).mean(), 2)"
   ]
  },
  {
   "cell_type": "code",
   "execution_count": 5,
   "id": "8252b0da-03a8-43aa-8964-24b6136cf58b",
   "metadata": {},
   "outputs": [
    {
     "data": {
      "text/plain": [
       "829.6"
      ]
     },
     "execution_count": 5,
     "metadata": {},
     "output_type": "execute_result"
    }
   ],
   "source": [
    "pd_city = enem.loc[\n",
    "    (enem['SG_UF_PROVA'] == 'MG')]\n",
    "pd.to_numeric(pd_city.NU_NOTA_CN).max()"
   ]
  },
  {
   "cell_type": "code",
   "execution_count": 6,
   "id": "067c72c8-bffd-4057-8916-3489bb35ef6b",
   "metadata": {},
   "outputs": [
    {
     "data": {
      "text/plain": [
       "NU_INSCRICAO        int64\n",
       "NU_ANO              int64\n",
       "TP_FAIXA_ETARIA     int64\n",
       "TP_SEXO            object\n",
       "TP_ESTADO_CIVIL     int64\n",
       "                    ...  \n",
       "Q021               object\n",
       "Q022               object\n",
       "Q023               object\n",
       "Q024               object\n",
       "Q025               object\n",
       "Length: 76, dtype: object"
      ]
     },
     "execution_count": 6,
     "metadata": {},
     "output_type": "execute_result"
    }
   ],
   "source": [
    "enem['NU_NOTA_CN'] = enem['NU_NOTA_CN'].astype('float')\n",
    "enem.dtypes"
   ]
  },
  {
   "cell_type": "code",
   "execution_count": 7,
   "id": "054fc0d4-6fff-42b0-9a4b-6bc55e9b515c",
   "metadata": {},
   "outputs": [
    {
     "data": {
      "text/plain": [
       "0    João Pessoa\n",
       "1       Brasília\n",
       "2            NaN\n",
       "3            NaN\n",
       "Name: NO_MUNICIPIO_ESC, dtype: object"
      ]
     },
     "execution_count": 7,
     "metadata": {},
     "output_type": "execute_result"
    }
   ],
   "source": [
    "#Q8 Qual é a cidade (município da escola) que possui a MAIOR nota em Ciências Naturais?\n",
    "#Which city (municipality of the school) has the HIGHEST score in Natural Sciences?\n",
    "#Question was cancelled, because the answer was not available\n",
    "enem[enem['NU_NOTA_CN']==enem['NU_NOTA_CN'].max()].reset_index()['NO_MUNICIPIO_ESC']"
   ]
  },
  {
   "cell_type": "code",
   "execution_count": 8,
   "id": "124e8832-14b6-4189-9f02-b97374ea876f",
   "metadata": {},
   "outputs": [
    {
     "data": {
      "text/plain": [
       "0    João Pessoa\n",
       "1       Brasília\n",
       "2            NaN\n",
       "3            NaN\n",
       "Name: NO_MUNICIPIO_ESC, dtype: object"
      ]
     },
     "execution_count": 8,
     "metadata": {},
     "output_type": "execute_result"
    }
   ],
   "source": [
    "enem[pd.to_numeric(enem['NU_NOTA_CN'])==pd.to_numeric(enem['NU_NOTA_CN']).max()].reset_index()['NO_MUNICIPIO_ESC']"
   ]
  },
  {
   "cell_type": "code",
   "execution_count": 9,
   "id": "17dd20d9-5ff5-460d-9745-77a44b718ab3",
   "metadata": {},
   "outputs": [
    {
     "data": {
      "text/plain": [
       "548.18"
      ]
     },
     "execution_count": 9,
     "metadata": {},
     "output_type": "execute_result"
    }
   ],
   "source": [
    "#Q9: Qual é a média da nota em Ciências Humanas dos alunos que estudaram numa escola na cidade de Natal? \n",
    "#What is the average grade in Human Sciences of students who studied at a school in the city of Natal?\n",
    "pd_natal = enem.loc[\n",
    "    (enem['NO_MUNICIPIO_ESC'] == 'Natal')]\n",
    "round(pd.to_numeric(pd_natal.NU_NOTA_CH).mean(), 2)"
   ]
  },
  {
   "cell_type": "code",
   "execution_count": 10,
   "id": "a9c123c7-cc95-475a-b435-f378b50be2aa",
   "metadata": {},
   "outputs": [
    {
     "data": {
      "text/html": [
       "<div>\n",
       "<style scoped>\n",
       "    .dataframe tbody tr th:only-of-type {\n",
       "        vertical-align: middle;\n",
       "    }\n",
       "\n",
       "    .dataframe tbody tr th {\n",
       "        vertical-align: top;\n",
       "    }\n",
       "\n",
       "    .dataframe thead th {\n",
       "        text-align: right;\n",
       "    }\n",
       "</style>\n",
       "<table border=\"1\" class=\"dataframe\">\n",
       "  <thead>\n",
       "    <tr style=\"text-align: right;\">\n",
       "      <th></th>\n",
       "      <th>NO_MUNICIPIO_ESC</th>\n",
       "      <th>NU_NOTA_MT</th>\n",
       "    </tr>\n",
       "  </thead>\n",
       "  <tbody>\n",
       "    <tr>\n",
       "      <th>0</th>\n",
       "      <td>0</td>\n",
       "      <td>0</td>\n",
       "    </tr>\n",
       "    <tr>\n",
       "      <th>1</th>\n",
       "      <td>0</td>\n",
       "      <td>711.3</td>\n",
       "    </tr>\n",
       "    <tr>\n",
       "      <th>2</th>\n",
       "      <td>Salvador</td>\n",
       "      <td>0</td>\n",
       "    </tr>\n",
       "    <tr>\n",
       "      <th>3</th>\n",
       "      <td>Santana de Parnaíba</td>\n",
       "      <td>759.4</td>\n",
       "    </tr>\n",
       "    <tr>\n",
       "      <th>4</th>\n",
       "      <td>0</td>\n",
       "      <td>0</td>\n",
       "    </tr>\n",
       "    <tr>\n",
       "      <th>...</th>\n",
       "      <td>...</td>\n",
       "      <td>...</td>\n",
       "    </tr>\n",
       "    <tr>\n",
       "      <th>5783104</th>\n",
       "      <td>Crateús</td>\n",
       "      <td>725.7</td>\n",
       "    </tr>\n",
       "    <tr>\n",
       "      <th>5783105</th>\n",
       "      <td>Três Lagoas</td>\n",
       "      <td>719.5</td>\n",
       "    </tr>\n",
       "    <tr>\n",
       "      <th>5783106</th>\n",
       "      <td>0</td>\n",
       "      <td>648.1</td>\n",
       "    </tr>\n",
       "    <tr>\n",
       "      <th>5783107</th>\n",
       "      <td>Cuiabá</td>\n",
       "      <td>0</td>\n",
       "    </tr>\n",
       "    <tr>\n",
       "      <th>5783108</th>\n",
       "      <td>São Luís</td>\n",
       "      <td>481.7</td>\n",
       "    </tr>\n",
       "  </tbody>\n",
       "</table>\n",
       "<p>5783109 rows × 2 columns</p>\n",
       "</div>"
      ],
      "text/plain": [
       "            NO_MUNICIPIO_ESC NU_NOTA_MT\n",
       "0                          0          0\n",
       "1                          0      711.3\n",
       "2                   Salvador          0\n",
       "3        Santana de Parnaíba      759.4\n",
       "4                          0          0\n",
       "...                      ...        ...\n",
       "5783104              Crateús      725.7\n",
       "5783105          Três Lagoas      719.5\n",
       "5783106                    0      648.1\n",
       "5783107               Cuiabá          0\n",
       "5783108             São Luís      481.7\n",
       "\n",
       "[5783109 rows x 2 columns]"
      ]
     },
     "execution_count": 10,
     "metadata": {},
     "output_type": "execute_result"
    }
   ],
   "source": [
    "#Q10 Qual é o município (município da escola) que obteve a maior nota MÉDIA em matemática? \n",
    "#Which municipality (school municipality) obtained the highest AVERAGE score in mathematics?\n",
    "#filter dataframe\n",
    "pd_cities = enem.loc[:,['NO_MUNICIPIO_ESC', 'NU_NOTA_MT']].fillna(0)\n",
    "pd_cities"
   ]
  },
  {
   "cell_type": "code",
   "execution_count": 11,
   "id": "fffc6491-37db-433b-bdaa-26e33bee3455",
   "metadata": {},
   "outputs": [
    {
     "data": {
      "text/plain": [
       "NO_MUNICIPIO_ESC     object\n",
       "NU_NOTA_MT          float64\n",
       "dtype: object"
      ]
     },
     "execution_count": 11,
     "metadata": {},
     "output_type": "execute_result"
    }
   ],
   "source": [
    "#Converting object to float\n",
    "pd_cities['NU_NOTA_MT'] = pd_cities['NU_NOTA_MT'].astype('float')\n",
    "pd_cities.dtypes"
   ]
  },
  {
   "cell_type": "code",
   "execution_count": 12,
   "id": "700c73f5-b666-4a97-95b8-3652403ed13c",
   "metadata": {},
   "outputs": [
    {
     "name": "stdout",
     "output_type": "stream",
     "text": [
      "           NO_MUNICIPIO_ESC  nu_mean  nu_min  nu_max\n",
      "3232             Novo Xingu    836.1   836.1   836.1\n",
      "1255       Coqueiros do Sul    787.4   787.4   787.4\n",
      "5106                 Vanini    713.4   713.4   713.4\n",
      "4112   Santa Cecília do Sul    666.7   666.7   666.7\n",
      "2957               Montauri    652.7   652.7   652.7\n",
      "...                     ...      ...     ...     ...\n",
      "5006              Tuparendi      0.0     0.0     0.0\n",
      "4214  Santa Tereza do Oeste      0.0     0.0     0.0\n",
      "2076        Inúbia Paulista      0.0     0.0     0.0\n",
      "4201    Santa Rosa da Serra      0.0     0.0     0.0\n",
      "4228  Santana de Cataguases      0.0     0.0     0.0\n",
      "\n",
      "[5269 rows x 4 columns]\n"
     ]
    }
   ],
   "source": [
    "grouped_cities = pd_cities.groupby(['NO_MUNICIPIO_ESC']).agg({'NU_NOTA_MT': ['mean', 'min', 'max']})\n",
    "grouped_cities.columns = ['nu_mean', 'nu_min', 'nu_max']\n",
    "grouped_cities = grouped_cities.reset_index()\n",
    "print(grouped_cities.sort_values(by='nu_mean', ascending=False))\n"
   ]
  },
  {
   "cell_type": "code",
   "execution_count": 13,
   "id": "f078506b-39d8-47de-8000-0ff595bb09c8",
   "metadata": {},
   "outputs": [
    {
     "data": {
      "text/plain": [
       "NU_INSCRICAO       8578\n",
       "NU_ANO             8578\n",
       "TP_FAIXA_ETARIA    8578\n",
       "TP_SEXO            8578\n",
       "TP_ESTADO_CIVIL    8578\n",
       "                   ... \n",
       "Q021               8503\n",
       "Q022               8503\n",
       "Q023               8503\n",
       "Q024               8503\n",
       "Q025               8503\n",
       "Length: 76, dtype: int64"
      ]
     },
     "execution_count": 13,
     "metadata": {},
     "output_type": "execute_result"
    }
   ],
   "source": [
    "#Q11: Quantas pessoas que estudaram numa escola no estado do Rio de Janeiro do sexo masculino obtiveram nota em matemática maior do que 600?\n",
    "#How many male people who studied at a school in the state of Rio de Janeiro had a math score greater than 600?\n",
    "#Question was cancelled, because the answer was not available\n",
    "enem.loc[\n",
    "     (enem['SG_UF_ESC'] == 'RJ') & \n",
    "     (enem['TP_SEXO'] == 'M') &\n",
    "     (pd.to_numeric(enem['NU_NOTA_MT']) > 600)\n",
    "].count()\n",
    "    "
   ]
  },
  {
   "cell_type": "code",
   "execution_count": 14,
   "id": "37a8befa-04b7-4da3-8d18-133e1bb35b7b",
   "metadata": {},
   "outputs": [
    {
     "data": {
      "text/plain": [
       "NU_INSCRICAO       9619\n",
       "NU_ANO             9619\n",
       "TP_FAIXA_ETARIA    9619\n",
       "TP_SEXO            9619\n",
       "TP_ESTADO_CIVIL    9619\n",
       "                   ... \n",
       "Q021               9494\n",
       "Q022               9494\n",
       "Q023               9494\n",
       "Q024               9494\n",
       "Q025               9494\n",
       "Length: 76, dtype: int64"
      ]
     },
     "execution_count": 14,
     "metadata": {},
     "output_type": "execute_result"
    }
   ],
   "source": [
    "#Q12:  Quantas pessoas que estudaram numa escola em Recife fizeram a prova do ENEM nessa mesma cidade?\n",
    "#How many people who studied at a school in Recife took the ENEM test in that same city?\n",
    "enem.loc[\n",
    "     (enem['NO_MUNICIPIO_ESC'] == 'Recife') & \n",
    "     (enem['NO_MUNICIPIO_PROVA'] == 'Recife') \n",
    "].count()"
   ]
  },
  {
   "cell_type": "code",
   "execution_count": 15,
   "id": "9046db3d-19a5-41db-bf4d-8c77b760eac0",
   "metadata": {},
   "outputs": [
    {
     "data": {
      "text/plain": [
       "NU_INSCRICAO       65\n",
       "NU_ANO             65\n",
       "TP_FAIXA_ETARIA    65\n",
       "TP_SEXO            65\n",
       "TP_ESTADO_CIVIL    65\n",
       "                   ..\n",
       "Q021               65\n",
       "Q022               65\n",
       "Q023               65\n",
       "Q024               65\n",
       "Q025               65\n",
       "Length: 76, dtype: int64"
      ]
     },
     "execution_count": 15,
     "metadata": {},
     "output_type": "execute_result"
    }
   ],
   "source": [
    "#Q13 Quantas mulheres que moram sozinhas, estudaram numa escola no estado de SP fizeram a prova de Ciências Humanas do ENEM em 2020? \n",
    "#How many women who live alone studied at a school in the state of SP took the ENEM Human Sciences test in 2020?\n",
    "#Question was cancelled, because the answer was not available\n",
    "enem.loc[\n",
    "     (enem['SG_UF_ESC'] == 'SP') & \n",
    "     (enem['TP_SEXO'] == 'F') &\n",
    "     (enem['Q005'] == 1) &\n",
    "     (enem['TP_PRESENCA_CH'] == 1)\n",
    "].count()"
   ]
  },
  {
   "cell_type": "code",
   "execution_count": 16,
   "id": "c458e075-a2de-4272-bfe9-e390cba48c9e",
   "metadata": {},
   "outputs": [
    {
     "data": {
      "text/plain": [
       "NU_INSCRICAO       90\n",
       "NU_ANO             90\n",
       "TP_FAIXA_ETARIA    90\n",
       "TP_SEXO            90\n",
       "TP_ESTADO_CIVIL    90\n",
       "                   ..\n",
       "Q021               90\n",
       "Q022               90\n",
       "Q023               90\n",
       "Q024               90\n",
       "Q025               90\n",
       "Length: 76, dtype: int64"
      ]
     },
     "execution_count": 16,
     "metadata": {},
     "output_type": "execute_result"
    }
   ],
   "source": [
    "#Guessing later on after getting that the Q13 was cancelled. If Gender was changed, a value expected is found\n",
    "enem.loc[\n",
    "     (enem['SG_UF_ESC'] == 'SP') & \n",
    "     (enem['TP_SEXO'] == 'M') &\n",
    "     (enem['Q005'] == 1) &\n",
    "     (enem['TP_PRESENCA_CH'] == 1)\n",
    "].count()"
   ]
  },
  {
   "cell_type": "code",
   "execution_count": 29,
   "id": "cd02017c-8db1-4485-8e32-ccceed78566a",
   "metadata": {},
   "outputs": [
    {
     "data": {
      "text/plain": [
       "545.0439967817798"
      ]
     },
     "execution_count": 29,
     "metadata": {},
     "output_type": "execute_result"
    }
   ],
   "source": [
    "#Q14 Qual é a nota média em Ciências Humanas dos alunos que estudaram numa escola no estado de Santa Catarina e possuem PELO MENOS 1 banheiro em casa? \n",
    "#What is the average grade in Human Sciences of students who studied at a school in the state of Santa Catarina and have AT LEAST 1 bathroom at home?\n",
    "\n",
    "#Converting object to float\n",
    "enem['NU_NOTA_CH'] = enem['NU_NOTA_CH'].astype('float')\n",
    "\n",
    "(enem.loc[\n",
    "     (enem['SG_UF_ESC'] == 'SC') &\n",
    "     ((enem['Q008'] == 'B') | (enem['Q008'] == 'C') | (enem['Q008'] == 'D') | (enem['Q008'] == 'E'))\n",
    "].NU_NOTA_CH).mean()"
   ]
  },
  {
   "cell_type": "code",
   "execution_count": 28,
   "id": "17c743bd-7b64-4945-8b30-e0494cd95549",
   "metadata": {},
   "outputs": [
    {
     "data": {
      "text/plain": [
       "667.1279782501242"
      ]
     },
     "execution_count": 28,
     "metadata": {},
     "output_type": "execute_result"
    }
   ],
   "source": [
    "#Q15 Qual é a nota média em matemática dos alunos cuja mãe possui PELO MENOS o ensino superior completo, do sexo feminino que estudaram numa escola em Belo Horizonte? \n",
    "#What is the average grade in mathematics of female students whose mother has at least completed higher education, who studied in a school in Belo Horizonte?\n",
    "\n",
    "pd.to_numeric(enem.loc[\n",
    "     (enem['NO_MUNICIPIO_ESC'] == 'Belo Horizonte') &\n",
    "     (enem['TP_SEXO'] == 'F') &\n",
    "     ((enem['Q002'] == 'F') | (enem['Q002'] == 'G'))\n",
    "].NU_NOTA_MT).mean()"
   ]
  }
 ],
 "metadata": {
  "kernelspec": {
   "display_name": "Python 3 (ipykernel)",
   "language": "python",
   "name": "python3"
  },
  "language_info": {
   "codemirror_mode": {
    "name": "ipython",
    "version": 3
   },
   "file_extension": ".py",
   "mimetype": "text/x-python",
   "name": "python",
   "nbconvert_exporter": "python",
   "pygments_lexer": "ipython3",
   "version": "3.9.7"
  }
 },
 "nbformat": 4,
 "nbformat_minor": 5
}
